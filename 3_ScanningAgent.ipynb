{
 "cells": [
  {
   "cell_type": "markdown",
   "id": "0df0d850-49eb-4a0b-a27a-146969db710d",
   "metadata": {},
   "source": [
    "# The Price is Right\n",
    "\n",
    "We'll build a ScanningAgent that looks for promising deals by subscribing to RSS feeds."
   ]
  },
  {
   "cell_type": "code",
   "execution_count": 1,
   "id": "d3763a79-8a5a-4300-8de4-93e85475af10",
   "metadata": {},
   "outputs": [],
   "source": [
    "# imports\n",
    "\n",
    "import os\n",
    "import json\n",
    "from dotenv import load_dotenv\n",
    "from openai import OpenAI\n",
    "from agents.deals import ScrapedDeal, DealSelection"
   ]
  },
  {
   "cell_type": "code",
   "execution_count": 2,
   "id": "c6469e32-16c3-4443-9475-ade710ef6933",
   "metadata": {},
   "outputs": [],
   "source": [
    "# Initialize and constants\n",
    "\n",
    "load_dotenv(override=True)\n",
    "os.environ['OPENAI_API_KEY'] = os.getenv('OPENAI_API_KEY', 'your-key-if-not-using-env')\n",
    "MODEL = 'gpt-4o-mini'\n",
    "openai = OpenAI()"
   ]
  },
  {
   "cell_type": "code",
   "execution_count": 3,
   "id": "afece9db-8cd4-46be-ac57-0b472e84da7d",
   "metadata": {},
   "outputs": [
    {
     "name": "stderr",
     "output_type": "stream",
     "text": [
      "100%|██████████| 5/5 [01:49<00:00, 21.95s/it]\n"
     ]
    }
   ],
   "source": [
    "deals = ScrapedDeal.fetch(show_progress=True)"
   ]
  },
  {
   "cell_type": "code",
   "execution_count": 4,
   "id": "8cd15c4d-eb44-4601-bf0c-f945c1d8e3ec",
   "metadata": {},
   "outputs": [
    {
     "data": {
      "text/plain": [
       "50"
      ]
     },
     "execution_count": 4,
     "metadata": {},
     "output_type": "execute_result"
    }
   ],
   "source": [
    "len(deals)"
   ]
  },
  {
   "cell_type": "code",
   "execution_count": 5,
   "id": "4259f30a-6455-49ed-8863-2f9ddd4776cb",
   "metadata": {},
   "outputs": [
    {
     "data": {
      "text/plain": [
       "'Title: Walmart Flash Deals: Up to 65% off + free shipping w/ $35\\nDetails: The Walmart Flash Deals section has refreshed today with price drops on thousands of items. Shop deals by category or scroll through the featured section to find the best flash deals this week. Shop Now at Walmart\\nFeatures: \\nURL: https://www.dealnews.com/Walmart-Flash-Deals-Up-to-65-off-free-shipping-w-35/21733479.html?iref=rss-c196'"
      ]
     },
     "execution_count": 5,
     "metadata": {},
     "output_type": "execute_result"
    }
   ],
   "source": [
    "deals[44].describe()"
   ]
  },
  {
   "cell_type": "code",
   "execution_count": 6,
   "id": "8100e5ac-38f5-40c1-a712-08ae12c85038",
   "metadata": {},
   "outputs": [],
   "source": [
    "system_prompt = \"\"\"You identify and summarize the 5 most detailed deals from a list, by selecting deals that have the most detailed, high quality description and the most clear price.\n",
    "Respond strictly in JSON with no explanation, using this format. You should provide the price as a number derived from the description. If the price of a deal isn't clear, do not include that deal in your response.\n",
    "Most important is that you respond with the 5 deals that have the most detailed product description with price. It's not important to mention the terms of the deal; most important is a thorough description of the product.\n",
    "Be careful with products that are described as \"$XXX off\" or \"reduced by $XXX\" - this isn't the actual price of the product. Only respond with products when you are highly confident about the price.\n",
    "\n",
    "{\"deals\": [\n",
    "    {\n",
    "        \"product_description\": \"Your clearly expressed summary of the product in 4-5 sentences. Details of the item are much more important than why it's a good deal. Avoid mentioning discounts and coupons; focus on the item itself. There should be a paragpraph of text for each item you choose.\",\n",
    "        \"price\": 99.99,\n",
    "        \"url\": \"the url as provided\"\n",
    "    },\n",
    "    ...\n",
    "]}\"\"\""
   ]
  },
  {
   "cell_type": "code",
   "execution_count": 7,
   "id": "f4bca170-af71-40c9-9597-1d72980c74d8",
   "metadata": {},
   "outputs": [],
   "source": [
    "user_prompt = \"\"\"Respond with the most promising 5 deals from this list, selecting those which have the most detailed, high quality product description and a clear price.\n",
    "Respond strictly in JSON, and only JSON. You should rephrase the description to be a summary of the product itself, not the terms of the deal.\n",
    "Remember to respond with a paragraph of text in the product_description field for each of the 5 items that you select.\n",
    "Be careful with products that are described as \"$XXX off\" or \"reduced by $XXX\" - this isn't the actual price of the product. Only respond with products when you are highly confident about the price.\n",
    "\n",
    "Deals:\n",
    "\n",
    "\"\"\"\n",
    "user_prompt += '\\n\\n'.join([deal.describe() for deal in deals])"
   ]
  },
  {
   "cell_type": "code",
   "execution_count": 8,
   "id": "020947a6-561b-417b-98a0-a085e31d2ce3",
   "metadata": {},
   "outputs": [
    {
     "name": "stdout",
     "output_type": "stream",
     "text": [
      "Respond with the most promising 5 deals from this list, selecting those which have the most detailed, high quality product description and a clear price.\n",
      "Respond strictly in JSON, and only JSON. You should rephrase the description to be a summary of the product itself, not the terms of the deal.\n",
      "Remember to respond with a paragraph of text in the product_description field for each of the 5 items that you select.\n",
      "Be careful with products that are described as \"$XXX off\" or \"reduced by $XXX\" - this isn't the actual price of the product. Only respond with products when you are highly confident about the price.\n",
      "\n",
      "Deals:\n",
      "\n",
      "Title: LG TVs and Soundbar Daily Deals at Best Buy: Up to $1,000 off + free shipping\n",
      "Details: Today only, Best Buy discounts a selection of LG TVs and home theater systems. TV prices start at $299.99 ($400 off) for the LG 55\" 55NANO75UQA Class NanoCell 75UQA Series LED 4K UHD Smart TV. Shop Now at Best Buy\n",
      "Features: \n",
      "URL: https://www.dealnews.com/LG-TVs-and-Soundbar-Daily-Deals-at-Best-Buy-Up-to-1-000-off-free-shipping/21733496.html?iref=rss-c142\n",
      "\n",
      "Title: Best Buy Outlet Event Wearable Technology Deals: Up to 70% off + free shipping\n",
      "Details: Save on a wide selection of smartwatches, rings, and accessories from Apple, Samsung, Google, and more. There are new, refurbished, and open-box items withing this sale. My Best Buy members get free shipping. (It's free to join. Shipping is free for everyone over $35.) Shop Now at Best Buy\n",
      "Features: \n",
      "URL: https://www.dealnews.com/Best-Buy-Outlet-Event-Wearable-Technology-Deals-Up-to-70-off-free-shipping/21732622.html?iref=rss-c142\n",
      "\n",
      "Title: Best Buy Outlet Event Featured Deals: Up to 75% off + free shipping\n",
      "Details: Best Buy Outlet Featured Deals section has 70 items from Apple, Samsung, LG, and more. My Best Buy members get free shipping. (It's free to join. Shipping is free for everyone over $35.) Shop Now at Best Buy\n",
      "Features: \n",
      "URL: https://www.dealnews.com/Best-Buy-Outlet-Event-Featured-Deals-Up-to-75-off-free-shipp\n"
     ]
    }
   ],
   "source": [
    "print(user_prompt[:2000])"
   ]
  },
  {
   "cell_type": "code",
   "execution_count": 9,
   "id": "7de46f74-868c-4127-8a68-cf2da7d600bb",
   "metadata": {},
   "outputs": [],
   "source": [
    "def get_recommendations():\n",
    "    completion = openai.beta.chat.completions.parse(\n",
    "        model=\"gpt-4o-mini\",\n",
    "        messages=[\n",
    "            {\"role\": \"system\", \"content\": system_prompt},\n",
    "            {\"role\": \"user\", \"content\": user_prompt}\n",
    "      ],\n",
    "        response_format=DealSelection\n",
    "    )\n",
    "    result = completion.choices[0].message.parsed\n",
    "    return result"
   ]
  },
  {
   "cell_type": "code",
   "execution_count": 10,
   "id": "4c06270d-8c17-4d5a-9cfe-b6cefe788d5e",
   "metadata": {},
   "outputs": [],
   "source": [
    "result = get_recommendations()"
   ]
  },
  {
   "cell_type": "code",
   "execution_count": 11,
   "id": "84e62845-3338-441a-8161-c70097af4773",
   "metadata": {},
   "outputs": [
    {
     "data": {
      "text/plain": [
       "5"
      ]
     },
     "execution_count": 11,
     "metadata": {},
     "output_type": "execute_result"
    }
   ],
   "source": [
    "len(result.deals)"
   ]
  },
  {
   "cell_type": "code",
   "execution_count": 12,
   "id": "e5554a0a-ae40-4684-ad3e-faa3d22e030c",
   "metadata": {},
   "outputs": [
    {
     "data": {
      "text/plain": [
       "Deal(product_description='The Turnstile Audio Concourse Series Multi-Pattern Condenser Microphone is designed for professional sound capture, featuring low self-noise performance that allows for clean audio recordings. It includes a built-in 10dB pad and low-cut switch, making it versatile across different recording environments. This microphone can operate in cardioid, omnidirectional, and figure-8 patterns, accommodating various recording techniques and scenarios. The model TAC700 is an excellent choice for aspiring musicians and content creators.', price=40.0, url='https://www.dealnews.com/products/Turnstile/Turnstile-Audio-Concourse-Series-Multi-Pattern-Condenser-Microphone/487258.html?iref=rss-c142')"
      ]
     },
     "execution_count": 12,
     "metadata": {},
     "output_type": "execute_result"
    }
   ],
   "source": [
    "result.deals[1]"
   ]
  },
  {
   "cell_type": "code",
   "execution_count": 13,
   "id": "8bdc57fb-7497-47af-a643-6ba5a21cc17e",
   "metadata": {},
   "outputs": [],
   "source": [
    "from agents.scanner_agent import ScannerAgent"
   ]
  },
  {
   "cell_type": "code",
   "execution_count": 14,
   "id": "132278bc-217a-43a6-b6c4-724140c6a225",
   "metadata": {},
   "outputs": [],
   "source": [
    "agent = ScannerAgent()\n",
    "result = agent.scan()"
   ]
  },
  {
   "cell_type": "code",
   "execution_count": 15,
   "id": "2e1d013a-c930-4dad-901b-41433379e14b",
   "metadata": {},
   "outputs": [
    {
     "data": {
      "text/plain": [
       "DealSelection(deals=[Deal(product_description='The Yamaha True Wireless Earbuds provide an immersive listening experience with Bluetooth 5.2 technology, ensuring a stable and efficient connection. They come with a compact charging case, featuring five sets of eartips for a customizable fit, allowing for comfort during long use. With an impressive sound quality and a sleek design, these earbuds are ideal for music lovers and professionals alike.', price=65.0, url='https://www.dealnews.com/products/Yamaha/Yamaha-True-Wireless-Earbuds/459553.html?iref=rss-c142'), Deal(product_description='The Turnstile Audio Concourse Series Multi-Pattern Condenser Microphone is designed for versatility and high-quality sound capture. It features three selectable polar patterns: cardioid, omnidirectional, and figure-8, allowing for various recording situations. Additionally, the microphone has a built-in 10dB pad and low-cut switch, making it suitable for both studio and live environments, effectively reducing handling noise and unwanted frequencies.', price=40.0, url='https://www.dealnews.com/products/Turnstile/Turnstile-Audio-Concourse-Series-Multi-Pattern-Condenser-Microphone/487258.html?iref=rss-c142'), Deal(product_description='The Energizer 1,200W Portable Power Station with a 200W Solar Panel is an essential tool for off-grid adventures. It features a 991Wh lithium-ion battery that provides reliable energy for all your devices. With pure sine wave technology, the power station is safe for sensitive electronics. It’s ideal for camping, emergency power supply, or as a backup during power outages, ensuring you can keep your electronics charged and operational anywhere.', price=800.0, url='https://www.dealnews.com/products/Energizer/Energizer-1-200-W-Portable-Power-Station-w-200-W-Solar-Panel/486557.html?iref=rss-c142'), Deal(product_description='The DC House 48V 100AH LiFePO4 Lithium Golf Cart Battery with Charger is designed for optimal power storage and efficient energy delivery. This battery is equipped with Bluetooth technology for real-time monitoring of performance and usage. It also comes with a 48V 18A charger, making it a reliable choice for golf carts and electric vehicles, ensuring you get longer run times and durability with every use.', price=740.0, url='https://www.dealnews.com/DC-House-48-V-100-AH-Li-Fe-PO4-Lithium-Golf-Cart-Battery-w-Charger-for-740-free-shipping/21733321.html?iref=rss-c142'), Deal(product_description='The Ring Battery Doorbell Pro combines cutting-edge technology with user-friendly features. It offers 1536p HD video quality and three-dimensional motion detection, allowing you to monitor your home with clarity. The two-way talk feature enables seamless communication, while low-light video capability ensures security at all times. Additionally, it works effortlessly with Amazon Alexa, providing a convenient smart home experience.', price=180.0, url='https://www.dealnews.com/products/Ring/Ring-Battery-Doorbell-Pro/489035.html?iref=rss-f1912')])"
      ]
     },
     "execution_count": 15,
     "metadata": {},
     "output_type": "execute_result"
    }
   ],
   "source": [
    "result"
   ]
  },
  {
   "cell_type": "code",
   "execution_count": null,
   "id": "5ee2e837-1f1d-42d4-8bc4-51cccc343006",
   "metadata": {},
   "outputs": [],
   "source": []
  }
 ],
 "metadata": {
  "kernelspec": {
   "display_name": "llms",
   "language": "python",
   "name": "python3"
  },
  "language_info": {
   "codemirror_mode": {
    "name": "ipython",
    "version": 3
   },
   "file_extension": ".py",
   "mimetype": "text/x-python",
   "name": "python",
   "nbconvert_exporter": "python",
   "pygments_lexer": "ipython3",
   "version": "3.11.11"
  }
 },
 "nbformat": 4,
 "nbformat_minor": 5
}
