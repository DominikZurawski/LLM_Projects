{
 "cells": [
  {
   "cell_type": "markdown",
   "id": "4a6ab9a2-28a2-445d-8512-a0dc8d1b54e9",
   "metadata": {},
   "source": [
    "# Code Generator\n",
    "\n",
    "The requirement: use a Frontier model to generate high performance C++ code from Python code\n"
   ]
  },
  {
   "cell_type": "code",
   "execution_count": 1,
   "id": "e610bf56-a46e-4aff-8de1-ab49d62b1ad3",
   "metadata": {},
   "outputs": [],
   "source": [
    "# imports\n",
    "\n",
    "import os\n",
    "import io\n",
    "import sys\n",
    "from dotenv import load_dotenv\n",
    "from openai import OpenAI\n",
    "import google.generativeai\n",
    "import anthropic\n",
    "from IPython.display import Markdown, display, update_display\n",
    "import gradio as gr\n",
    "import subprocess\n",
    "import google.generativeai as genai"
   ]
  },
  {
   "cell_type": "code",
   "execution_count": 2,
   "id": "4f672e1c-87e9-4865-b760-370fa605e614",
   "metadata": {},
   "outputs": [],
   "source": [
    "# environment\n",
    "\n",
    "load_dotenv(override=True)\n",
    "os.environ['OPENAI_API_KEY'] = os.getenv('OPENAI_API_KEY', 'your-key-if-not-using-env')\n",
    "# os.environ['ANTHROPIC_API_KEY'] = os.getenv('ANTHROPIC_API_KEY', 'your-key-if-not-using-env')\n",
    "os.environ['GEMINI_API_KEY'] = os.getenv('GEMINI_API_KEY', 'your-key-if-not-using-env')\n",
    "os.environ['HF_TOKEN'] = os.getenv('HF_TOKEN', 'your-key-if-not-using-env')"
   ]
  },
  {
   "cell_type": "code",
   "execution_count": 3,
   "id": "8aa149ed-9298-4d69-8fe2-8f5de0f667da",
   "metadata": {},
   "outputs": [],
   "source": [
    "# initialize\n",
    "# NOTE - option to use ultra-low cost models by uncommenting last 2 lines\n",
    "\n",
    "openai = OpenAI()\n",
    "# claude = anthropic.Anthropic()\n",
    "# OPENAI_MODEL = \"gpt-4o\"\n",
    "# CLAUDE_MODEL = \"claude-3-5-sonnet-20240620\"\n",
    "\n",
    "# Want to keep costs ultra-low? Uncomment these lines:\n",
    "OPENAI_MODEL = \"gpt-4o-mini\"\n",
    "# CLAUDE_MODEL = \"claude-3-haiku-20240307\"\n",
    "\n",
    "GEMINI_MODEL = \"gemini-2.0-flash-exp\"\n",
    "gemini_model_instance = genai.GenerativeModel(GEMINI_MODEL)\n"
   ]
  },
  {
   "cell_type": "code",
   "execution_count": 4,
   "id": "6896636f-923e-4a2c-9d6c-fac07828a201",
   "metadata": {},
   "outputs": [],
   "source": [
    "system_message = \"You are an assistant that reimplements Python code in high performance C++ for Windows. \"\n",
    "system_message += \"Respond only with C++ code; use comments sparingly and do not provide any explanation other than occasional comments. \"\n",
    "system_message += \"The C++ response needs to produce an identical output in the fastest possible time.\""
   ]
  },
  {
   "cell_type": "code",
   "execution_count": 5,
   "id": "8e7b3546-57aa-4c29-bc5d-f211970d04eb",
   "metadata": {},
   "outputs": [],
   "source": [
    "def user_prompt_for(python):\n",
    "    user_prompt = \"Rewrite this Python code in C++ with the fastest possible implementation that produces identical output in the least time. \"\n",
    "    user_prompt += \"Respond only with C++ code; do not explain your work other than a few comments. \"\n",
    "    user_prompt += \"Pay attention to number types to ensure no int overflows. Remember to #include all necessary C++ packages such as iomanip or cstdint.\\n\\n\"\n",
    "    user_prompt += python\n",
    "    return user_prompt"
   ]
  },
  {
   "cell_type": "code",
   "execution_count": 6,
   "id": "c6190659-f54c-4951-bef4-4960f8e51cc4",
   "metadata": {},
   "outputs": [],
   "source": [
    "def messages_for(python):\n",
    "    return [\n",
    "        {\"role\": \"system\", \"content\": system_message},\n",
    "        {\"role\": \"user\", \"content\": user_prompt_for(python)}\n",
    "    ]"
   ]
  },
  {
   "cell_type": "code",
   "execution_count": 7,
   "id": "71e1ba8c-5b05-4726-a9f3-8d8c6257350b",
   "metadata": {},
   "outputs": [],
   "source": [
    "# write to a file called optimized.cpp\n",
    "\n",
    "def write_output(cpp):\n",
    "    code = cpp.replace(\"```cpp\",\"\").replace(\"```\",\"\")\n",
    "    with open(\"optimized.cpp\", \"w\") as f:\n",
    "        f.write(code)"
   ]
  },
  {
   "cell_type": "code",
   "execution_count": 8,
   "id": "e7d2fea8-74c6-4421-8f1e-0e76d5b201b9",
   "metadata": {},
   "outputs": [],
   "source": [
    "def optimize_gpt(python):\n",
    "    stream = openai.chat.completions.create(model=OPENAI_MODEL, messages=messages_for(python), stream=True)\n",
    "    reply = \"\"\n",
    "    for chunk in stream:\n",
    "        fragment = chunk.choices[0].delta.content or \"\"\n",
    "        reply += fragment\n",
    "        print(fragment, end='', flush=True)\n",
    "    write_output(reply)"
   ]
  },
  {
   "cell_type": "code",
   "execution_count": 9,
   "id": "7cd84ad8-d55c-4fe0-9eeb-1895c95c4a9d",
   "metadata": {},
   "outputs": [],
   "source": [
    "# def optimize_claude(python):\n",
    "#     result = claude.messages.stream(\n",
    "#         model=CLAUDE_MODEL,\n",
    "#         max_tokens=2000,\n",
    "#         system=system_message,\n",
    "#         messages=[{\"role\": \"user\", \"content\": user_prompt_for(python)}],\n",
    "#     )\n",
    "#     reply = \"\"\n",
    "#     with result as stream:\n",
    "#         for text in stream.text_stream:\n",
    "#             reply += text\n",
    "#             print(text, end=\"\", flush=True)\n",
    "#     write_output(reply)"
   ]
  },
  {
   "cell_type": "code",
   "execution_count": 10,
   "id": "37a1e9cb",
   "metadata": {},
   "outputs": [],
   "source": [
    "def optimize_gemini(python):\n",
    "    if gemini_model_instance is None:\n",
    "        return\n",
    "\n",
    "    prompt = user_prompt_for(python)\n",
    "\n",
    "    try:\n",
    "        if hasattr(gemini_model_instance, '_system_instruction') and gemini_model_instance._system_instruction:\n",
    "             stream = gemini_model_instance.generate_content(prompt, stream=True)\n",
    "        else:\n",
    "             generation_config = genai.types.GenerationConfig(\n",
    "                 # max_output_tokens=2048,\n",
    "                 temperature=0.2\n",
    "             )\n",
    "             safety_settings = [\n",
    "                {\"category\": \"HARM_CATEGORY_HARASSMENT\", \"threshold\": \"BLOCK_NONE\"},\n",
    "                {\"category\": \"HARM_CATEGORY_HATE_SPEECH\", \"threshold\": \"BLOCK_NONE\"},\n",
    "                {\"category\": \"HARM_CATEGORY_SEXUALLY_EXPLICIT\", \"threshold\": \"BLOCK_NONE\"},\n",
    "                {\"category\": \"HARM_CATEGORY_DANGEROUS_CONTENT\", \"threshold\": \"BLOCK_NONE\"},\n",
    "             ]\n",
    "\n",
    "             stream = gemini_model_instance.generate_content(\n",
    "                 prompt,\n",
    "                 generation_config=generation_config,\n",
    "                 safety_settings=safety_settings,\n",
    "                 stream=True\n",
    "            )\n",
    "\n",
    "        reply = \"\"\n",
    "        for chunk in stream:\n",
    "            try:\n",
    "                fragment = chunk.text\n",
    "                reply += fragment\n",
    "                print(fragment, end='', flush=True)\n",
    "            except ValueError:\n",
    "                pass\n",
    "            except Exception as chunk_error:\n",
    "                print(f\"\\nError process: {chunk_error}\")\n",
    "\n",
    "\n",
    "        if not reply.endswith('\\n'):\n",
    "            print()\n",
    "\n",
    "        write_output(reply)\n",
    "\n",
    "    except genai.types.generation_types.BlockedPromptException as bpe:\n",
    "         print(f\"\\nError: Prompt was blocked by Gemini. {bpe}\")\n",
    "    except genai.types.generation_types.StopCandidateException as sce:\n",
    "         print(f\"\\nError: Generation stopped by Gemini (e.g. safety). {sce}\")\n",
    "         write_output(reply)\n",
    "    except Exception as e:\n",
    "        print(f\"\\nError when calling Google Gemini: {e}\")\n",
    "        import traceback\n",
    "        traceback.print_exc()"
   ]
  },
  {
   "cell_type": "code",
   "execution_count": 11,
   "id": "a1cbb778-fa57-43de-b04b-ed523f396c38",
   "metadata": {},
   "outputs": [],
   "source": [
    "pi = \"\"\"\n",
    "import time\n",
    "\n",
    "def calculate(iterations, param1, param2):\n",
    "    result = 1.0\n",
    "    for i in range(1, iterations+1):\n",
    "        j = i * param1 - param2\n",
    "        result -= (1/j)\n",
    "        j = i * param1 + param2\n",
    "        result += (1/j)\n",
    "    return result\n",
    "\n",
    "start_time = time.time()\n",
    "result = calculate(100_000_000, 4, 1) * 4\n",
    "end_time = time.time()\n",
    "\n",
    "print(f\"Result: {result:.12f}\")\n",
    "print(f\"Execution Time: {(end_time - start_time):.6f} seconds\")\n",
    "\"\"\""
   ]
  },
  {
   "cell_type": "code",
   "execution_count": 12,
   "id": "7fe1cd4b-d2c5-4303-afed-2115a3fef200",
   "metadata": {},
   "outputs": [
    {
     "name": "stdout",
     "output_type": "stream",
     "text": [
      "Result: 3.141592658589\n",
      "Execution Time: 16.262544 seconds\n"
     ]
    }
   ],
   "source": [
    "exec(pi)"
   ]
  },
  {
   "cell_type": "code",
   "execution_count": 13,
   "id": "105db6f9-343c-491d-8e44-3a5328b81719",
   "metadata": {},
   "outputs": [
    {
     "name": "stdout",
     "output_type": "stream",
     "text": [
      "```cpp\n",
      "#include <iostream>\n",
      "#include <iomanip>\n",
      "#include <chrono>\n",
      "#include <cstdint>\n",
      "\n",
      "double calculate(int64_t iterations, double param1, double param2) {\n",
      "    double result = 1.0;\n",
      "    for (int64_t i = 1; i <= iterations; ++i) {\n",
      "        double j = i * param1 - param2;\n",
      "        result -= (1.0 / j);\n",
      "        j = i * param1 + param2;\n",
      "        result += (1.0 / j);\n",
      "    }\n",
      "    return result;\n",
      "}\n",
      "\n",
      "int main() {\n",
      "    auto start_time = std::chrono::high_resolution_clock::now();\n",
      "    \n",
      "    double result = calculate(100'000'000, 4.0, 1.0) * 4.0;\n",
      "    \n",
      "    auto end_time = std::chrono::high_resolution_clock::now();\n",
      "    std::chrono::duration<double> execution_time = end_time - start_time;\n",
      "\n",
      "    std::cout << std::fixed << std::setprecision(12);\n",
      "    std::cout << \"Result: \" << result << std::endl;\n",
      "    std::cout << \"Execution Time: \" << execution_time.count() << \" seconds\" << std::endl;\n",
      "\n",
      "    return 0;\n",
      "}\n",
      "```"
     ]
    }
   ],
   "source": [
    "optimize_gpt(pi)"
   ]
  },
  {
   "cell_type": "code",
   "execution_count": 14,
   "id": "bf26ee95-0c77-491d-9a91-579a1e96a8a3",
   "metadata": {},
   "outputs": [
    {
     "name": "stdout",
     "output_type": "stream",
     "text": [
      "Result: 3.141592658589\n",
      "Execution Time: 15.568280 seconds\n"
     ]
    }
   ],
   "source": [
    "exec(pi)"
   ]
  },
  {
   "cell_type": "markdown",
   "id": "bf8f8018-f64d-425c-a0e1-d7862aa9592d",
   "metadata": {},
   "source": [
    "# Compiling C++ and executing\n",
    "\n",
    "This next cell contains the command to compile a C++ file on M1 Mac.  \n",
    "It compiles the file `optimized.cpp` into an executable called `optimized`  \n",
    "Then it runs the program called `optimized`"
   ]
  },
  {
   "cell_type": "code",
   "execution_count": 15,
   "id": "4194e40c-04ab-4940-9d64-b4ad37c5bb40",
   "metadata": {},
   "outputs": [],
   "source": [
    "# Compile C++ and run the executable\n",
    "\n",
    "# !clang++ -O3 -std=c++17 -march=armv8.3-a -o optimized optimized.cpp\n",
    "# !./optimized"
   ]
  },
  {
   "cell_type": "markdown",
   "id": "f6218d6a",
   "metadata": {},
   "source": [
    "On Windows"
   ]
  },
  {
   "cell_type": "code",
   "execution_count": 16,
   "id": "267e54f1",
   "metadata": {},
   "outputs": [
    {
     "name": "stdout",
     "output_type": "stream",
     "text": [
      "Result: 3.141592658589\n",
      "Execution Time: 0.214469800000 seconds\n"
     ]
    }
   ],
   "source": [
    "!g++ optimized.cpp -o optimized -O3 -std=c++17\n",
    "\n",
    "!optimized"
   ]
  },
  {
   "cell_type": "code",
   "execution_count": 17,
   "id": "983a11fe-e24d-4c65-8269-9802c5ef3ae6",
   "metadata": {},
   "outputs": [],
   "source": [
    "# optimize_claude(pi)"
   ]
  },
  {
   "cell_type": "code",
   "execution_count": 18,
   "id": "c02c41dc",
   "metadata": {},
   "outputs": [
    {
     "name": "stdout",
     "output_type": "stream",
     "text": [
      "```cpp\n",
      "#include <iostream>\n",
      "#include <iomanip>\n",
      "#include <chrono>\n",
      "\n",
      "using namespace std;\n",
      "\n",
      "double calculate(int64_t iterations, int64_t param1, int64_t param2) {\n",
      "    double result = 1.0;\n",
      "    for (int64_t i = 1; i <= iterations; ++i) {\n",
      "        double j = static_cast<double>(i * param1 - param2);\n",
      "        result -= (1.0 / j);\n",
      "        j = static_cast<double>(i * param1 + param2);\n",
      "        result += (1.0 / j);\n",
      "    }\n",
      "    return result;\n",
      "}\n",
      "\n",
      "int main() {\n",
      "    auto start_time = chrono::high_resolution_clock::now();\n",
      "    double result = calculate(100000000, 4, 1) * 4;\n",
      "    auto end_time = chrono::high_resolution_clock::now();\n",
      "\n",
      "    auto duration = chrono::duration_cast<chrono::microseconds>(end_time - start_time);\n",
      "    double seconds = duration.count() / 1000000.0;\n",
      "\n",
      "    cout << fixed << setprecision(12) << \"Result: \" << result << endl;\n",
      "    cout << fixed << setprecision(6) << \"Execution Time: \" << seconds << \" seconds\" << endl;\n",
      "\n",
      "    return 0;\n",
      "}\n",
      "```\n"
     ]
    }
   ],
   "source": [
    "optimize_gemini(pi)"
   ]
  },
  {
   "cell_type": "code",
   "execution_count": 19,
   "id": "d5a766f9-3d23-4bb4-a1d4-88ec44b61ddf",
   "metadata": {},
   "outputs": [
    {
     "name": "stdout",
     "output_type": "stream",
     "text": [
      "Result: 3.141592658589\n",
      "Execution Time: 0.202344 seconds\n"
     ]
    }
   ],
   "source": [
    "# Repeat for ClaudGemini - again, use the right approach for your platform\n",
    "\n",
    "!g++ optimized.cpp -o optimized -O3 -std=c++17\n",
    "!optimized"
   ]
  },
  {
   "cell_type": "code",
   "execution_count": 20,
   "id": "c3b497b3-f569-420e-b92e-fb0f49957ce0",
   "metadata": {},
   "outputs": [],
   "source": [
    "python_hard = \"\"\"# Be careful to support large number sizes\n",
    "\n",
    "def lcg(seed, a=1664525, c=1013904223, m=2**32):\n",
    "    value = seed\n",
    "    while True:\n",
    "        value = (a * value + c) % m\n",
    "        yield value\n",
    "\n",
    "def max_subarray_sum(n, seed, min_val, max_val):\n",
    "    lcg_gen = lcg(seed)\n",
    "    random_numbers = [next(lcg_gen) % (max_val - min_val + 1) + min_val for _ in range(n)]\n",
    "    max_sum = float('-inf')\n",
    "    for i in range(n):\n",
    "        current_sum = 0\n",
    "        for j in range(i, n):\n",
    "            current_sum += random_numbers[j]\n",
    "            if current_sum > max_sum:\n",
    "                max_sum = current_sum\n",
    "    return max_sum\n",
    "\n",
    "def total_max_subarray_sum(n, initial_seed, min_val, max_val):\n",
    "    total_sum = 0\n",
    "    lcg_gen = lcg(initial_seed)\n",
    "    for _ in range(20):\n",
    "        seed = next(lcg_gen)\n",
    "        total_sum += max_subarray_sum(n, seed, min_val, max_val)\n",
    "    return total_sum\n",
    "\n",
    "# Parameters\n",
    "n = 10000         # Number of random numbers\n",
    "initial_seed = 42 # Initial seed for the LCG\n",
    "min_val = -10     # Minimum value of random numbers\n",
    "max_val = 10      # Maximum value of random numbers\n",
    "\n",
    "# Timing the function\n",
    "import time\n",
    "start_time = time.time()\n",
    "result = total_max_subarray_sum(n, initial_seed, min_val, max_val)\n",
    "end_time = time.time()\n",
    "\n",
    "print(\"Total Maximum Subarray Sum (20 runs):\", result)\n",
    "print(\"Execution Time: {:.6f} seconds\".format(end_time - start_time))\n",
    "\"\"\""
   ]
  },
  {
   "cell_type": "code",
   "execution_count": 21,
   "id": "dab5e4bc-276c-4555-bd4c-12c699d5e899",
   "metadata": {},
   "outputs": [
    {
     "name": "stdout",
     "output_type": "stream",
     "text": [
      "Total Maximum Subarray Sum (20 runs): 10980\n",
      "Execution Time: 57.129757 seconds\n"
     ]
    }
   ],
   "source": [
    "exec(python_hard)"
   ]
  },
  {
   "cell_type": "code",
   "execution_count": 22,
   "id": "e8d24ed5-2c15-4f55-80e7-13a3952b3cb8",
   "metadata": {},
   "outputs": [
    {
     "name": "stdout",
     "output_type": "stream",
     "text": [
      "```cpp\n",
      "#include <iostream>\n",
      "#include <vector>\n",
      "#include <chrono>\n",
      "#include <limits>\n",
      "#include <stdint.h>\n",
      "\n",
      "class LCG {\n",
      "public:\n",
      "    LCG(uint32_t seed, uint32_t a = 1664525, uint32_t c = 1013904223, uint32_t m = 1U << 32)\n",
      "        : a(a), c(c), m(m), value(seed) {}\n",
      "\n",
      "    uint32_t next() {\n",
      "        value = (a * value + c) % m;\n",
      "        return value;\n",
      "    }\n",
      "\n",
      "private:\n",
      "    uint32_t a, c, m, value;\n",
      "};\n",
      "\n",
      "int64_t max_subarray_sum(int n, uint32_t seed, int min_val, int max_val) {\n",
      "    LCG lcg(seed);\n",
      "    std::vector<int> random_numbers(n);\n",
      "    \n",
      "    for (int i = 0; i < n; ++i) {\n",
      "        random_numbers[i] = lcg.next() % (max_val - min_val + 1) + min_val;\n",
      "    }\n",
      "\n",
      "    int64_t max_sum = std::numeric_limits<int64_t>::min();\n",
      "    for (int i = 0; i < n; ++i) {\n",
      "        int64_t current_sum = 0;\n",
      "        for (int j = i; j < n; ++j) {\n",
      "            current_sum += random_numbers[j];\n",
      "            if (current_sum > max_sum) {\n",
      "                max_sum = current_sum;\n",
      "            }\n",
      "        }\n",
      "    }\n",
      "    return max_sum;\n",
      "}\n",
      "\n",
      "int64_t total_max_subarray_sum(int n, uint32_t initial_seed, int min_val, int max_val) {\n",
      "    int64_t total_sum = 0;\n",
      "    LCG lcg(initial_seed);\n",
      "    \n",
      "    for (int i = 0; i < 20; ++i) {\n",
      "        uint32_t seed = lcg.next();\n",
      "        total_sum += max_subarray_sum(n, seed, min_val, max_val);\n",
      "    }\n",
      "    return total_sum;\n",
      "}\n",
      "\n",
      "int main() {\n",
      "    const int n = 10000;         // Number of random numbers\n",
      "    const uint32_t initial_seed = 42; // Initial seed for the LCG\n",
      "    const int min_val = -10;     // Minimum value of random numbers\n",
      "    const int max_val = 10;      // Maximum value of random numbers\n",
      "\n",
      "    auto start_time = std::chrono::high_resolution_clock::now();\n",
      "    int64_t result = total_max_subarray_sum(n, initial_seed, min_val, max_val);\n",
      "    auto end_time = std::chrono::high_resolution_clock::now();\n",
      "\n",
      "    std::chrono::duration<double> elapsed = end_time - start_time;\n",
      "    std::cout << \"Total Maximum Subarray Sum (20 runs): \" << result << std::endl;\n",
      "    std::cout << \"Execution Time: \" << std::fixed << std::setprecision(6) << elapsed.count() << \" seconds\" << std::endl;\n",
      "\n",
      "    return 0;\n",
      "}\n",
      "```"
     ]
    }
   ],
   "source": [
    "optimize_gpt(python_hard)"
   ]
  },
  {
   "cell_type": "code",
   "execution_count": 23,
   "id": "e0b3d073-88a2-40b2-831c-6f0c345c256f",
   "metadata": {},
   "outputs": [
    {
     "name": "stderr",
     "output_type": "stream",
     "text": [
      "optimized.cpp:10:87: warning: left shift count >= width of type [-Wshift-count-overflow]\n",
      "   10 |     LCG(uint32_t seed, uint32_t a = 1664525, uint32_t c = 1013904223, uint32_t m = 1U << 32)\n",
      "      |                                                                                    ~~~^~~~~\n",
      "optimized.cpp: In function 'int main()':\n",
      "optimized.cpp:66:59: error: 'setprecision' is not a member of 'std'\n",
      "   66 |     std::cout << \"Execution Time: \" << std::fixed << std::setprecision(6) << elapsed.count() << \" seconds\" << std::endl;\n",
      "      |                                                           ^~~~~~~~~~~~\n",
      "optimized.cpp:5:1: note: 'std::setprecision' is defined in header '<iomanip>'; this is probably fixable by adding '#include <iomanip>'\n",
      "    4 | #include <chrono>\n",
      "  +++ |+#include <iomanip>\n",
      "    5 | #include <limits>\n"
     ]
    },
    {
     "name": "stdout",
     "output_type": "stream",
     "text": [
      "Result: 3.141592658589\n",
      "Execution Time: 0.211275 seconds\n"
     ]
    }
   ],
   "source": [
    "!g++ optimized.cpp -o optimized -O3 -std=c++17\n",
    "!optimized"
   ]
  },
  {
   "cell_type": "code",
   "execution_count": 24,
   "id": "e9305446-1d0c-4b51-866a-b8c1e299bf5c",
   "metadata": {},
   "outputs": [
    {
     "name": "stdout",
     "output_type": "stream",
     "text": [
      "```cpp\n",
      "#include <iostream>\n",
      "#include <vector>\n",
      "#include <limits>\n",
      "#include <chrono>\n",
      "#include <iomanip>\n",
      "\n",
      "using namespace std;\n",
      "\n",
      "// LCG function\n",
      "uint32_t lcg(uint32_t& seed, uint32_t a = 1664525, uint32_t c = 1013904223, uint32_t m = 0xFFFFFFFF) {\n",
      "    seed = (a * seed + c) % m;\n",
      "    return seed;\n",
      "}\n",
      "\n",
      "// Max subarray sum function\n",
      "long long max_subarray_sum(int n, uint32_t seed, int min_val, int max_val) {\n",
      "    vector<int> random_numbers(n);\n",
      "    for (int i = 0; i < n; ++i) {\n",
      "        random_numbers[i] = lcg(seed) % (max_val - min_val + 1) + min_val;\n",
      "    }\n",
      "\n",
      "    long long max_sum = numeric_limits<long long>::min();\n",
      "    for (int i = 0; i < n; ++i) {\n",
      "        long long current_sum = 0;\n",
      "        for (int j = i; j < n; ++j) {\n",
      "            current_sum += random_numbers[j];\n",
      "            if (current_sum > max_sum) {\n",
      "                max_sum = current_sum;\n",
      "            }\n",
      "        }\n",
      "    }\n",
      "    return max_sum;\n",
      "}\n",
      "\n",
      "// Total max subarray sum function\n",
      "long long total_max_subarray_sum(int n, uint32_t initial_seed, int min_val, int max_val) {\n",
      "    long long total_sum = 0;\n",
      "    uint32_t seed = initial_seed;\n",
      "    for (int i = 0; i < 20; ++i) {\n",
      "        seed = lcg(seed);\n",
      "        total_sum += max_subarray_sum(n, seed, min_val, max_val);\n",
      "    }\n",
      "    return total_sum;\n",
      "}\n",
      "\n",
      "int main() {\n",
      "    // Parameters\n",
      "    int n = 10000;         // Number of random numbers\n",
      "    uint32_t initial_seed = 42; // Initial seed for the LCG\n",
      "    int min_val = -10;     // Minimum value of random numbers\n",
      "    int max_val = 10;      // Maximum value of random numbers\n",
      "\n",
      "    // Timing the function\n",
      "    auto start_time = chrono::high_resolution_clock::now();\n",
      "    long long result = total_max_subarray_sum(n, initial_seed, min_val, max_val);\n",
      "    auto end_time = chrono::high_resolution_clock::now();\n",
      "\n",
      "    auto duration = chrono::duration_cast<chrono::microseconds>(end_time - start_time);\n",
      "    double seconds = duration.count() / 1000000.0;\n",
      "\n",
      "    cout << \"Total Maximum Subarray Sum (20 runs): \" << result << endl;\n",
      "    cout << \"Execution Time: \" << fixed << setprecision(6) << seconds << \" seconds\" << endl;\n",
      "\n",
      "    return 0;\n",
      "}\n",
      "```\n"
     ]
    }
   ],
   "source": [
    "optimize_gemini(python_hard)"
   ]
  },
  {
   "cell_type": "code",
   "execution_count": 25,
   "id": "0c181036-8193-4fdd-aef3-fc513b218d43",
   "metadata": {},
   "outputs": [
    {
     "name": "stdout",
     "output_type": "stream",
     "text": [
      "Total Maximum Subarray Sum (20 runs): 10980\n",
      "Execution Time: 0.528878 seconds\n"
     ]
    }
   ],
   "source": [
    "!g++ optimized.cpp -o optimized -O3 -std=c++17\n",
    "!optimized"
   ]
  },
  {
   "cell_type": "code",
   "execution_count": 26,
   "id": "0be9f47d-5213-4700-b0e2-d444c7c738c0",
   "metadata": {},
   "outputs": [],
   "source": [
    "def stream_gpt(python):\n",
    "    stream = openai.chat.completions.create(model=OPENAI_MODEL, messages=messages_for(python), stream=True)\n",
    "    reply = \"\"\n",
    "    for chunk in stream:\n",
    "        fragment = chunk.choices[0].delta.content or \"\"\n",
    "        reply += fragment\n",
    "        yield reply.replace('```cpp\\n','').replace('```','')"
   ]
  },
  {
   "cell_type": "code",
   "execution_count": 27,
   "id": "8669f56b-8314-4582-a167-78842caea131",
   "metadata": {},
   "outputs": [],
   "source": [
    "# def stream_claude(python):\n",
    "#     result = claude.messages.stream(\n",
    "#         model=CLAUDE_MODEL,\n",
    "#         max_tokens=2000,\n",
    "#         system=system_message,\n",
    "#         messages=[{\"role\": \"user\", \"content\": user_prompt_for(python)}],\n",
    "#     )\n",
    "#     reply = \"\"\n",
    "#     with result as stream:\n",
    "#         for text in stream.text_stream:\n",
    "#             reply += text\n",
    "#             yield reply.replace('```cpp\\n','').replace('```','')"
   ]
  },
  {
   "cell_type": "code",
   "execution_count": 28,
   "id": "ac6d6824",
   "metadata": {},
   "outputs": [],
   "source": [
    "def stream_gemini(python):\n",
    "    \"\"\"Generates C++ code using Gemini API and yields the streaming response.\"\"\"\n",
    "    if 'gemini_model_instance' not in globals() or gemini_model_instance is None:\n",
    "        yield \"ERROR: Gemini model instance is not initialized.\"\n",
    "        return\n",
    "\n",
    "    prompt = user_prompt_for(python)\n",
    "    reply = \"\"\n",
    "\n",
    "    try:\n",
    "        generation_config = genai.types.GenerationConfig(temperature=0.2)\n",
    "        stream = gemini_model_instance.generate_content(\n",
    "            prompt, generation_config=generation_config, stream=True\n",
    "        )\n",
    "\n",
    "        for chunk in stream:\n",
    "            try:\n",
    "                fragment = chunk.text\n",
    "                if not reply and fragment.strip() == 'p':\n",
    "                    continue\n",
    "                reply += fragment\n",
    "                temp_cleaned = reply\n",
    "                if temp_cleaned.strip().startswith(\"```cpp\"):\n",
    "                   temp_cleaned = temp_cleaned[temp_cleaned.find(\"```cpp\")+5:]\n",
    "                if temp_cleaned.strip().endswith(\"```\"):\n",
    "                   temp_cleaned = temp_cleaned[:temp_cleaned.rfind(\"```\")]\n",
    "                yield temp_cleaned.strip()\n",
    "\n",
    "            except ValueError:\n",
    "                pass\n",
    "            except Exception as e_chunk:\n",
    "                 yield f\"\\nError: {e_chunk}\"\n",
    "                 print(f\"\\nError: {e_chunk}\")\n",
    "\n",
    "    except genai.types.generation_types.BlockedPromptException as bpe:\n",
    "         yield f\"Error: Prompt blocked. {bpe}\"\n",
    "         print(f\"Error: Prompt blocked. {bpe}\")\n",
    "    except genai.types.generation_types.StopCandidateException as sce:\n",
    "         yield f\"Error: Generation Stop. {sce}\"\n",
    "         print(f\"Error: Generation Stop. {sce}\")\n",
    "    except Exception as e:\n",
    "        yield f\"Error Gemini API: {e}\"\n",
    "        import traceback\n",
    "        traceback.print_exc()"
   ]
  },
  {
   "cell_type": "code",
   "execution_count": 29,
   "id": "2f1ae8f5-16c8-40a0-aa18-63b617df078d",
   "metadata": {},
   "outputs": [],
   "source": [
    "def optimize(python, model):\n",
    "    if model == \"GPT\":\n",
    "        stream_func = stream_gpt\n",
    "    elif model == \"Gemini\":\n",
    "        stream_func = stream_gemini\n",
    "    # elif model==\"Claude\":\n",
    "    #     stream_func = stream_claude\n",
    "    else:\n",
    "        raise ValueError(\"Unknown model\")\n",
    "\n",
    "    final_reply = \"\"\n",
    "    try:\n",
    "        for stream_so_far in stream_func(python):\n",
    "            final_reply = stream_so_far\n",
    "        if final_reply.startswith(\"Error:\"):\n",
    "             return final_reply\n",
    "\n",
    "        cleaned_reply = final_reply.strip()\n",
    "\n",
    "        if cleaned_reply.startswith(\"```cpp\"):\n",
    "            if cleaned_reply.split('\\n')[0].strip() == '```cpp':\n",
    "                 cleaned_reply = '\\n'.join(cleaned_reply.split('\\n')[1:])\n",
    "            else:\n",
    "                 cleaned_reply = cleaned_reply[cleaned_reply.find(\"```cpp\") + 5:]\n",
    "\n",
    "        if cleaned_reply.endswith(\"```\"):\n",
    "            cleaned_reply = cleaned_reply[:cleaned_reply.rfind(\"```\")]\n",
    "\n",
    "        cleaned_reply = cleaned_reply.strip()\n",
    "\n",
    "        if model == \"Gemini\" and cleaned_reply.startswith('p') and '\\n' in cleaned_reply:\n",
    "            potential_code_start = cleaned_reply.split('\\n', 1)[1].strip()\n",
    "            if potential_code_start.startswith('#include') or potential_code_start.startswith('using namespace'):\n",
    "                cleaned_reply = potential_code_start\n",
    "\n",
    "        return cleaned_reply\n",
    "\n",
    "    except Exception as e:\n",
    "        import traceback\n",
    "        error_msg = f\"Unexpected error during optimisation:\\n{traceback.format_exc()}\"\n",
    "        print(error_msg)\n",
    "        return error_msg"
   ]
  },
  {
   "cell_type": "code",
   "execution_count": 30,
   "id": "f1ddb38e-6b0a-4c37-baa4-ace0b7de887a",
   "metadata": {},
   "outputs": [
    {
     "name": "stdout",
     "output_type": "stream",
     "text": [
      "* Running on local URL:  http://127.0.0.1:7861\n",
      "\n",
      "To create a public link, set `share=True` in `launch()`.\n"
     ]
    },
    {
     "data": {
      "text/html": [
       "<div><iframe src=\"http://127.0.0.1:7861/\" width=\"100%\" height=\"500\" allow=\"autoplay; camera; microphone; clipboard-read; clipboard-write;\" frameborder=\"0\" allowfullscreen></iframe></div>"
      ],
      "text/plain": [
       "<IPython.core.display.HTML object>"
      ]
     },
     "metadata": {},
     "output_type": "display_data"
    },
    {
     "data": {
      "text/plain": []
     },
     "execution_count": 30,
     "metadata": {},
     "output_type": "execute_result"
    }
   ],
   "source": [
    "with gr.Blocks() as ui:\n",
    "    with gr.Row():\n",
    "        python = gr.Textbox(label=\"Python code:\", lines=10, value=python_hard)\n",
    "        cpp = gr.Textbox(label=\"C++ code:\", lines=10)\n",
    "    with gr.Row():\n",
    "        model = gr.Dropdown([\"GPT\", \"Gemini\"], label=\"Select model\", value=\"GPT\")\n",
    "        convert = gr.Button(\"Convert code\")\n",
    "\n",
    "    convert.click(optimize, inputs=[python, model], outputs=[cpp])\n",
    "\n",
    "ui.launch(inbrowser=True)"
   ]
  },
  {
   "cell_type": "code",
   "execution_count": 31,
   "id": "19bf2bff-a822-4009-a539-f003b1651383",
   "metadata": {},
   "outputs": [],
   "source": [
    "def execute_python(code):\n",
    "    try:\n",
    "        output = io.StringIO()\n",
    "        sys.stdout = output\n",
    "        exec(code)\n",
    "    finally:\n",
    "        sys.stdout = sys.__stdout__\n",
    "    return output.getvalue()"
   ]
  },
  {
   "cell_type": "code",
   "execution_count": 32,
   "id": "77f3ab5d-fcfb-4d3f-8728-9cacbf833ea6",
   "metadata": {},
   "outputs": [],
   "source": [
    "def execute_cpp(code):\n",
    "        write_output(code)\n",
    "        try:\n",
    "            #Mac\n",
    "            # compile_cmd = [\"clang++\", \"-Ofast\", \"-std=c++17\", \"-march=armv8.5-a\", \"-mtune=apple-m1\", \"-mcpu=apple-m1\", \"-o\", \"optimized\", \"optimized.cpp\"]\n",
    "            # Windows\n",
    "            compile_cmd = [\"g++\", \"optimized.cpp\", \"-o\", \"optimized\", \"-O3\", \"-std=c++17\"]\n",
    "            compile_result = subprocess.run(compile_cmd, check=True, text=True, capture_output=True)\n",
    "            run_cmd = [\"./optimized\"]\n",
    "            run_result = subprocess.run(run_cmd, check=True, text=True, capture_output=True)\n",
    "            return run_result.stdout\n",
    "        except subprocess.CalledProcessError as e:\n",
    "            return f\"An error occurred:\\n{e.stderr}\""
   ]
  },
  {
   "cell_type": "code",
   "execution_count": 33,
   "id": "9a2274f1-d03b-42c0-8dcc-4ce159b18442",
   "metadata": {},
   "outputs": [],
   "source": [
    "css = \"\"\"\n",
    ".python {background-color: #306998;}\n",
    ".cpp {background-color: #050;}\n",
    "\"\"\""
   ]
  },
  {
   "cell_type": "code",
   "execution_count": 34,
   "id": "f1303932-160c-424b-97a8-d28c816721b2",
   "metadata": {},
   "outputs": [
    {
     "name": "stdout",
     "output_type": "stream",
     "text": [
      "* Running on local URL:  http://127.0.0.1:7862\n",
      "\n",
      "To create a public link, set `share=True` in `launch()`.\n"
     ]
    },
    {
     "data": {
      "text/html": [
       "<div><iframe src=\"http://127.0.0.1:7862/\" width=\"100%\" height=\"500\" allow=\"autoplay; camera; microphone; clipboard-read; clipboard-write;\" frameborder=\"0\" allowfullscreen></iframe></div>"
      ],
      "text/plain": [
       "<IPython.core.display.HTML object>"
      ]
     },
     "metadata": {},
     "output_type": "display_data"
    },
    {
     "data": {
      "text/plain": []
     },
     "execution_count": 34,
     "metadata": {},
     "output_type": "execute_result"
    }
   ],
   "source": [
    "with gr.Blocks(css=css) as ui:\n",
    "    gr.Markdown(\"## Convert code from Python to C++\")\n",
    "    with gr.Row():\n",
    "        python = gr.Textbox(label=\"Python code:\", value=python_hard, lines=10)\n",
    "        cpp = gr.Textbox(label=\"C++ code:\", lines=10)\n",
    "    with gr.Row():\n",
    "        model = gr.Dropdown([\"GPT\", \"Gemini\"], label=\"Select model\", value=\"GPT\")\n",
    "    with gr.Row():\n",
    "        convert = gr.Button(\"Convert code\")\n",
    "    with gr.Row():\n",
    "        python_run = gr.Button(\"Run Python\")\n",
    "        cpp_run = gr.Button(\"Run C++\")\n",
    "    with gr.Row():\n",
    "        python_out = gr.TextArea(label=\"Python result:\", elem_classes=[\"python\"])\n",
    "        cpp_out = gr.TextArea(label=\"C++ result:\", elem_classes=[\"cpp\"])\n",
    "\n",
    "    convert.click(optimize, inputs=[python, model], outputs=[cpp])\n",
    "    python_run.click(execute_python, inputs=[python], outputs=[python_out])\n",
    "    cpp_run.click(execute_cpp, inputs=[cpp], outputs=[cpp_out])\n",
    "\n",
    "ui.launch(inbrowser=True)"
   ]
  },
  {
   "cell_type": "markdown",
   "id": "e03edfdb",
   "metadata": {},
   "source": [
    "## Hugging Face Models"
   ]
  },
  {
   "cell_type": "code",
   "execution_count": 35,
   "id": "c76c8290",
   "metadata": {},
   "outputs": [],
   "source": [
    "from huggingface_hub import InferenceClient\n",
    "from transformers import AutoTokenizer\n",
    "\n",
    "os.environ['HF_TOKEN'] = os.getenv('HF_TOKEN', 'your-hf-token')\n",
    "\n",
    "codeqwen_client = InferenceClient(\"Qwen/CodeQwen1.5-7B-Chat\")\n",
    "codeqwen_tokenizer = AutoTokenizer.from_pretrained(\"Qwen/CodeQwen1.5-7B-Chat\")\n",
    "\n",
    "codegemma_client = InferenceClient(\"google/codegemma-7b-it\")\n",
    "codegemma_tokenizer = AutoTokenizer.from_pretrained(\"google/codegemma-7b-it\")\n"
   ]
  },
  {
   "cell_type": "code",
   "execution_count": 36,
   "id": "f1bda7ee",
   "metadata": {},
   "outputs": [],
   "source": [
    "def optimize_codeqwen(python_code):\n",
    "    messages = messages_for(python_code)\n",
    "    prompt = codeqwen_tokenizer.apply_chat_template(\n",
    "        messages,\n",
    "        tokenize=False,\n",
    "        add_generation_prompt=True\n",
    "    )\n",
    "\n",
    "    response = codeqwen_client.text_generation(\n",
    "        prompt,\n",
    "        temperature=0.2,\n",
    "        stream=True\n",
    "    )\n",
    "\n",
    "    reply = \"\"\n",
    "    for chunk in response:\n",
    "        reply += chunk\n",
    "        print(chunk, end='', flush=True)\n",
    "\n",
    "    write_output(reply)\n",
    "    return reply"
   ]
  },
  {
   "cell_type": "code",
   "execution_count": 37,
   "id": "7c9b3112",
   "metadata": {},
   "outputs": [],
   "source": [
    "def optimize_codegemma(python_code):\n",
    "    messages = messages_for(python_code)\n",
    "    prompt = codegemma_tokenizer.apply_chat_template(\n",
    "        messages,\n",
    "        tokenize=False,\n",
    "        add_generation_prompt=True\n",
    "    )\n",
    "\n",
    "    response = codegemma_client.text_generation(\n",
    "        prompt,\n",
    "        temperature=0.2,\n",
    "        stream=True\n",
    "    )\n",
    "\n",
    "    reply = \"\"\n",
    "    for chunk in response:\n",
    "        reply += chunk\n",
    "        print(chunk, end='', flush=True)\n",
    "\n",
    "    write_output(reply)\n",
    "    return reply"
   ]
  },
  {
   "cell_type": "code",
   "execution_count": 38,
   "id": "a41c6205",
   "metadata": {},
   "outputs": [],
   "source": [
    "def stream_codeqwen(python):\n",
    "    try:\n",
    "        messages = messages_for(python)\n",
    "        prompt = codeqwen_tokenizer.apply_chat_template(messages, tokenize=False)\n",
    "\n",
    "        stream = codeqwen_client.text_generation(\n",
    "            prompt,\n",
    "            temperature=0.3,\n",
    "            stream=True\n",
    "        )\n",
    "\n",
    "        reply = \"\"\n",
    "        for chunk in stream:\n",
    "            text_chunk = chunk.generated_text\n",
    "            reply += text_chunk\n",
    "            yield reply.replace(\"``````\", \"\").strip()\n",
    "\n",
    "    except Exception as e:\n",
    "        yield f\"Error: {str(e)}\"\n",
    "\n"
   ]
  },
  {
   "cell_type": "code",
   "execution_count": 39,
   "id": "f6d8885c",
   "metadata": {},
   "outputs": [],
   "source": [
    "def messages_for_gemma(python):\n",
    "    full_prompt = f\"{system_message}\\n\\n{user_prompt_for(python)}\"\n",
    "\n",
    "    return [\n",
    "        {\"role\": \"user\", \"content\": full_prompt}\n",
    "    ]\n",
    "\n",
    "def stream_codegemma(python):\n",
    "    try:\n",
    "        python_code = python.value if hasattr(python, 'value') else python\n",
    "\n",
    "        messages = messages_for_gemma(python)\n",
    "        prompt = codegemma_tokenizer.apply_chat_template(\n",
    "            messages,\n",
    "            tokenize=False,\n",
    "            add_generation_prompt=True\n",
    "        )\n",
    "\n",
    "        stream = codegemma_client.text_generation(\n",
    "            prompt,\n",
    "            temperature=0.3,\n",
    "            stream=True\n",
    "        )\n",
    "\n",
    "        reply = \"\"\n",
    "        for chunk in stream:\n",
    "            text_chunk = chunk.generated_text\n",
    "            reply += text_chunk\n",
    "            yield reply.replace(\"``````\", \"\").strip()\n",
    "\n",
    "    except Exception as e:\n",
    "        yield f\"Error: {str(e)}\"\n"
   ]
  },
  {
   "cell_type": "code",
   "execution_count": 40,
   "id": "ff70bd79",
   "metadata": {},
   "outputs": [
    {
     "name": "stdout",
     "output_type": "stream",
     "text": [
      "ModelInfo(id='google/codegemma-7b-it', author='google', sha='078cdc51070553d1636d645c9a238f3b0914459a', created_at=datetime.datetime(2024, 3, 21, 16, 57, 43, tzinfo=datetime.timezone.utc), last_modified=datetime.datetime(2024, 8, 7, 18, 27, 26, tzinfo=datetime.timezone.utc), private=False, disabled=False, downloads=3692, downloads_all_time=None, gated='manual', gguf=None, inference=None, inference_provider_mapping=None, likes=217, library_name='transformers', tags=['transformers', 'safetensors', 'gemma', 'text-generation', 'conversational', 'license:gemma', 'autotrain_compatible', 'text-generation-inference', 'endpoints_compatible', 'region:us'], pipeline_tag='text-generation', mask_token=None, card_data={'base_model': None, 'datasets': None, 'eval_results': None, 'language': None, 'library_name': 'transformers', 'license': 'gemma', 'license_name': None, 'license_link': 'https://ai.google.dev/gemma/terms', 'metrics': None, 'model_name': None, 'pipeline_tag': 'text-generation', 'tags': None, 'extra_gated_heading': 'Access CodeGemma on Hugging Face', 'extra_gated_prompt': 'To access CodeGemma on Hugging Face, you’re required to review and agree to Google’s usage license. To do this, please ensure you’re logged-in to Hugging Face and click below. Requests are processed immediately.', 'extra_gated_button_content': 'Acknowledge license', 'widget': [{'text': '<start_of_turn>user Write a Python function to calculate the nth fibonacci number.<end_of_turn> <start_of_turn>model\\n'}], 'inference': {'parameters': {'max_new_tokens': 200}}}, widget_data=[{'text': '<start_of_turn>user Write a Python function to calculate the nth fibonacci number.<end_of_turn> <start_of_turn>model\\n'}], model_index=None, config={'architectures': ['GemmaForCausalLM'], 'model_type': 'gemma', 'tokenizer_config': {'bos_token': '<bos>', 'chat_template': \"{{ bos_token }}{% if messages[0]['role'] == 'system' %}{{ raise_exception('System role not supported') }}{% endif %}{% for message in messages %}{% if (message['role'] == 'user') != (loop.index0 % 2 == 0) %}{{ raise_exception('Conversation roles must alternate user/assistant/user/assistant/...') }}{% endif %}{% if (message['role'] == 'assistant') %}{% set role = 'model' %}{% else %}{% set role = message['role'] %}{% endif %}{{ '<start_of_turn>' + role + '\\n' + message['content'] | trim + '<end_of_turn>\\n' }}{% endfor %}{% if add_generation_prompt %}{{'<start_of_turn>model\\n'}}{% endif %}\", 'eos_token': '<eos>', 'pad_token': '<pad>', 'unk_token': '<unk>', 'use_default_system_prompt': False}}, transformers_info=TransformersInfo(auto_model='AutoModelForCausalLM', custom_class=None, pipeline_tag='text-generation', processor='AutoTokenizer'), trending_score=None, siblings=[RepoSibling(rfilename='.gitattributes', size=None, blob_id=None, lfs=None), RepoSibling(rfilename='README.md', size=None, blob_id=None, lfs=None), RepoSibling(rfilename='codegemma_nl_benchmarks.png', size=None, blob_id=None, lfs=None), RepoSibling(rfilename='config.json', size=None, blob_id=None, lfs=None), RepoSibling(rfilename='generation_config.json', size=None, blob_id=None, lfs=None), RepoSibling(rfilename='model-00001-of-00004.safetensors', size=None, blob_id=None, lfs=None), RepoSibling(rfilename='model-00002-of-00004.safetensors', size=None, blob_id=None, lfs=None), RepoSibling(rfilename='model-00003-of-00004.safetensors', size=None, blob_id=None, lfs=None), RepoSibling(rfilename='model-00004-of-00004.safetensors', size=None, blob_id=None, lfs=None), RepoSibling(rfilename='model.safetensors.index.json', size=None, blob_id=None, lfs=None), RepoSibling(rfilename='special_tokens_map.json', size=None, blob_id=None, lfs=None), RepoSibling(rfilename='tokenizer.json', size=None, blob_id=None, lfs=None), RepoSibling(rfilename='tokenizer.model', size=None, blob_id=None, lfs=None), RepoSibling(rfilename='tokenizer_config.json', size=None, blob_id=None, lfs=None)], spaces=['bigcode/bigcode-models-leaderboard', 'ysharma/CodeGemma', 'KBaba7/Quant', 'NiansuhAI/Main', 'Justinrune/LLaMA-Factory', 'kenken999/fastapi_django_main_live', 'bhaskartripathi/LLM_Quantization', 'totolook/Quant', 'FallnAI/Quantize-HF-Models', 'ruslanmv/convert_to_gguf', 'sanbo1200/Main1', 'LULDev/CodeGemma', 'Jlock/google-codegemma-7b-it', 'halogenx/google-codegemma-7b-it', 'tayaee/codegemma-minimal', 'sanbo1200/google-codegemma-7b-it', 'Vishnuraaj/google-codegemma-7b-it', 'srinuksv/Main', 'atlasas/bigcode-models-leaderboard', 'sanbo1200/Main', 'sanbo110/Main', 'sanbo110/Main1', 'msun415/Llamole', 'K00B404/LLM_Quantization', 'turonova/chatCAT', 'Samhugs07/Perl-To-Python'], safetensors=SafeTensorsInfo(parameters={'BF16': 8537680896}, total=8537680896), security_repo_status=None, xet_enabled=None)\n",
      "ModelInfo(id='Qwen/CodeQwen1.5-7B-Chat', author='Qwen', sha='7b0cc3380fe815e6f08fe2f80c03e05a8b1883d8', created_at=datetime.datetime(2024, 4, 15, 7, 17, 6, tzinfo=datetime.timezone.utc), last_modified=datetime.datetime(2024, 4, 30, 7, 18, 34, tzinfo=datetime.timezone.utc), private=False, disabled=False, downloads=8539, downloads_all_time=None, gated=False, gguf=None, inference=None, inference_provider_mapping=None, likes=331, library_name='transformers', tags=['transformers', 'safetensors', 'qwen2', 'text-generation', 'chat', 'conversational', 'en', 'arxiv:2309.16609', 'license:other', 'autotrain_compatible', 'text-generation-inference', 'endpoints_compatible', 'region:us'], pipeline_tag='text-generation', mask_token=None, card_data={'base_model': None, 'datasets': None, 'eval_results': None, 'language': ['en'], 'library_name': None, 'license': 'other', 'license_name': 'tongyi-qianwen', 'license_link': 'https://huggingface.co/Qwen/CodeQwen1.5-7B-Chat/blob/main/LICENSE', 'metrics': None, 'model_name': None, 'pipeline_tag': 'text-generation', 'tags': ['chat']}, widget_data=[{'text': 'Hi, what can you help me with?'}, {'text': 'What is 84 * 3 / 2?'}, {'text': 'Tell me an interesting fact about the universe!'}, {'text': 'Explain quantum computing in simple terms.'}], model_index=None, config={'architectures': ['Qwen2ForCausalLM'], 'model_type': 'qwen2', 'tokenizer_config': {'bos_token': '<|endoftext|>', 'eos_token': '<|im_end|>', 'pad_token': '<fim_pad>', 'unk_token': '<unk>', 'use_default_system_prompt': False, 'chat_template': \"{% for message in messages %}{% if loop.first and messages[0]['role'] != 'system' %}{{ '<|im_start|>system\\nYou are a helpful assistant.<|im_end|>\\n' }}{% endif %}{{'<|im_start|>' + message['role'] + '\\n' + message['content'] + '<|im_end|>' + '\\n'}}{% endfor %}{% if add_generation_prompt %}{{ '<|im_start|>assistant\\n' }}{% endif %}\"}}, transformers_info=TransformersInfo(auto_model='AutoModelForCausalLM', custom_class=None, pipeline_tag='text-generation', processor='AutoTokenizer'), trending_score=None, siblings=[RepoSibling(rfilename='.gitattributes', size=None, blob_id=None, lfs=None), RepoSibling(rfilename='LICENSE', size=None, blob_id=None, lfs=None), RepoSibling(rfilename='README.md', size=None, blob_id=None, lfs=None), RepoSibling(rfilename='config.json', size=None, blob_id=None, lfs=None), RepoSibling(rfilename='generation_config.json', size=None, blob_id=None, lfs=None), RepoSibling(rfilename='model-00001-of-00004.safetensors', size=None, blob_id=None, lfs=None), RepoSibling(rfilename='model-00002-of-00004.safetensors', size=None, blob_id=None, lfs=None), RepoSibling(rfilename='model-00003-of-00004.safetensors', size=None, blob_id=None, lfs=None), RepoSibling(rfilename='model-00004-of-00004.safetensors', size=None, blob_id=None, lfs=None), RepoSibling(rfilename='model.safetensors.index.json', size=None, blob_id=None, lfs=None), RepoSibling(rfilename='tokenizer.json', size=None, blob_id=None, lfs=None), RepoSibling(rfilename='tokenizer.model', size=None, blob_id=None, lfs=None), RepoSibling(rfilename='tokenizer_config.json', size=None, blob_id=None, lfs=None)], spaces=['bigcode/bigcode-models-leaderboard', 'poscye/code', 'Justinrune/LLaMA-Factory', 'kenken999/fastapi_django_main_live', 'cepc-c/Qwen-CodeQwen1.5-7B-Chat', 'srijansengupta/CodeQwen-7B-chat', 'learnmlf/MGDebugger', 'barreler/Qwen-CodeQwen1.5-7B-Chat', 'camphong/paries-assistant', 'cnyt947/Qwen-CodeQwen1.5-7B-Chat', 'Irishcoder/Qwen-CodeQwen1.5-7B-Chat', 'ResterChed/codestral', 'nizam1996/Qwen-CodeQwen1.5-7B-Chat', 'sudokara/CodeQwen1.5-7B-Chat', 'atlasas/bigcode-models-leaderboard', 'elapt1c/Qwen-CodeQwen1.5-7B-Chat', 'msun415/Llamole', 'IsaRodAm/Qwen-CodeQwen1.5-7B-Chat', 'indoos2000/qwen-test-cpu', 'Samhugs07/Perl-To-Python'], safetensors=SafeTensorsInfo(parameters={'BF16': 7250284544}, total=7250284544), security_repo_status=None, xet_enabled=None)\n"
     ]
    }
   ],
   "source": [
    "from huggingface_hub import model_info\n",
    "\n",
    "print(model_info(\"google/codegemma-7b-it\", token=os.environ[\"HF_TOKEN\"]))\n",
    "\n",
    "print(model_info(\"Qwen/CodeQwen1.5-7B-Chat\", token=os.environ[\"HF_TOKEN\"]))\n"
   ]
  },
  {
   "cell_type": "code",
   "execution_count": 41,
   "id": "18becb77",
   "metadata": {},
   "outputs": [],
   "source": [
    "def optimize(python, model):\n",
    "    if model == \"GPT\":\n",
    "        stream_func = stream_gpt\n",
    "    elif model == \"Gemini\":\n",
    "        stream_func = stream_gemini\n",
    "    elif model == \"CodeQwen1.5\":\n",
    "        stream_func = stream_codeqwen\n",
    "    elif model == \"CodeGemma\":\n",
    "        stream_func = stream_codegemma\n",
    "    # elif model==\"Claude\":\n",
    "    #     stream_func = stream_claude\n",
    "    else:\n",
    "        raise ValueError(\"Unknown model\")\n",
    "\n",
    "    final_reply = \"\"\n",
    "    try:\n",
    "        for stream_so_far in stream_func(python):\n",
    "            final_reply = stream_so_far\n",
    "        if final_reply.startswith(\"Error:\"):\n",
    "             return final_reply\n",
    "\n",
    "        cleaned_reply = final_reply.strip()\n",
    "\n",
    "        if cleaned_reply.startswith(\"```cpp\"):\n",
    "            if cleaned_reply.split('\\n')[0].strip() == '```cpp':\n",
    "                 cleaned_reply = '\\n'.join(cleaned_reply.split('\\n')[1:])\n",
    "            else:\n",
    "                 cleaned_reply = cleaned_reply[cleaned_reply.find(\"```cpp\") + 5:]\n",
    "\n",
    "        if cleaned_reply.endswith(\"```\"):\n",
    "            cleaned_reply = cleaned_reply[:cleaned_reply.rfind(\"```\")]\n",
    "\n",
    "        cleaned_reply = cleaned_reply.strip()\n",
    "\n",
    "        if model == \"Gemini\" and cleaned_reply.startswith('p') and '\\n' in cleaned_reply:\n",
    "            potential_code_start = cleaned_reply.split('\\n', 1)[1].strip()\n",
    "            if potential_code_start.startswith('#include') or potential_code_start.startswith('using namespace'):\n",
    "                cleaned_reply = potential_code_start\n",
    "\n",
    "        return cleaned_reply\n",
    "\n",
    "    except Exception as e:\n",
    "        import traceback\n",
    "        error_msg = f\"Unexpected error during optimisation:\\n{traceback.format_exc()}\"\n",
    "        print(error_msg)\n",
    "        return error_msg"
   ]
  },
  {
   "cell_type": "code",
   "execution_count": 42,
   "id": "d4863540",
   "metadata": {},
   "outputs": [],
   "source": [
    "def select_sample_program(sample_program):\n",
    "    if sample_program==\"pi\":\n",
    "        return pi\n",
    "    elif sample_program==\"python_hard\":\n",
    "        return python_hard\n",
    "    else:\n",
    "        return \"Type your Python program here\""
   ]
  },
  {
   "cell_type": "code",
   "execution_count": 43,
   "id": "8c4da4fb",
   "metadata": {},
   "outputs": [
    {
     "name": "stdout",
     "output_type": "stream",
     "text": [
      "* Running on local URL:  http://127.0.0.1:7863\n",
      "\n",
      "To create a public link, set `share=True` in `launch()`.\n"
     ]
    },
    {
     "data": {
      "text/html": [
       "<div><iframe src=\"http://127.0.0.1:7863/\" width=\"100%\" height=\"500\" allow=\"autoplay; camera; microphone; clipboard-read; clipboard-write;\" frameborder=\"0\" allowfullscreen></iframe></div>"
      ],
      "text/plain": [
       "<IPython.core.display.HTML object>"
      ]
     },
     "metadata": {},
     "output_type": "display_data"
    },
    {
     "data": {
      "text/plain": []
     },
     "execution_count": 43,
     "metadata": {},
     "output_type": "execute_result"
    }
   ],
   "source": [
    "with gr.Blocks(css=css) as ui:\n",
    "    gr.Markdown(\"## Convert code from Python to C++\")\n",
    "    with gr.Row():\n",
    "        python = gr.Textbox(label=\"Python code:\", value=python_hard, lines=10)\n",
    "        cpp = gr.Textbox(label=\"C++ code:\", lines=10)\n",
    "    with gr.Row():\n",
    "        with gr.Row():\n",
    "            sample_program = gr.Radio([\"pi\", \"python_hard\"], label=\"Sample program\", value=\"pi\")\n",
    "            model = gr.Dropdown([\"GPT\", \"Gemini\", \"CodeQwen1.5\", \"CodeGemma\"], label=\"Select model\", value=\"GPT\")\n",
    "    with gr.Row():\n",
    "        convert = gr.Button(\"Convert code\")\n",
    "    with gr.Row():\n",
    "        python_run = gr.Button(\"Run Python\")\n",
    "        cpp_run = gr.Button(\"Run C++\")\n",
    "    with gr.Row():\n",
    "        python_out = gr.TextArea(label=\"Python result:\", elem_classes=[\"python\"])\n",
    "        cpp_out = gr.TextArea(label=\"C++ result:\", elem_classes=[\"cpp\"])\n",
    "\n",
    "    sample_program.change(select_sample_program, inputs=[sample_program], outputs=[python])\n",
    "    convert.click(optimize, inputs=[python, model], outputs=[cpp])\n",
    "    python_run.click(execute_python, inputs=[python], outputs=[python_out])\n",
    "    cpp_run.click(execute_cpp, inputs=[cpp], outputs=[cpp_out])\n",
    "\n",
    "ui.launch(inbrowser=True)"
   ]
  }
 ],
 "metadata": {
  "kernelspec": {
   "display_name": "llms",
   "language": "python",
   "name": "python3"
  },
  "language_info": {
   "codemirror_mode": {
    "name": "ipython",
    "version": 3
   },
   "file_extension": ".py",
   "mimetype": "text/x-python",
   "name": "python",
   "nbconvert_exporter": "python",
   "pygments_lexer": "ipython3",
   "version": "3.11.11"
  }
 },
 "nbformat": 4,
 "nbformat_minor": 5
}
