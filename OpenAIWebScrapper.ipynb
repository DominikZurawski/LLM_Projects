{
 "cells": [
  {
   "cell_type": "code",
   "execution_count": 2,
   "id": "4e2a9393-7767-488e-a8bf-27c12dca35bd",
   "metadata": {},
   "outputs": [],
   "source": [
    "# imports\n",
    "\n",
    "import os\n",
    "import requests\n",
    "from dotenv import load_dotenv\n",
    "from bs4 import BeautifulSoup\n",
    "from IPython.display import Markdown, display\n",
    "from openai import OpenAI\n",
    "\n",
    "# If you get an error running this cell, then please head over to the troubleshooting notebook!"
   ]
  },
  {
   "cell_type": "markdown",
   "id": "6900b2a8-6384-4316-8aaa-5e519fca4254",
   "metadata": {},
   "source": [
    "# Connecting to OpenAI\n",
    "\n",
    "The next cell is where we load in the environment variables in your `.env` file and connect to OpenAI.\n",
    "\n",
    "## Troubleshooting if you have problems:\n",
    "\n",
    "Head over to the [troubleshooting](troubleshooting.ipynb) notebook in this folder for step by step code to identify the root cause and fix it!\n",
    "\n",
    "If you make a change, try restarting the \"Kernel\" (the python process sitting behind this notebook) by Kernel menu >> Restart Kernel and Clear Outputs of All Cells. Then try this notebook again, starting at the top.\n",
    "\n",
    "Or, contact me! Message me or email ed@edwarddonner.com and we will get this to work.\n",
    "\n",
    "Any concerns about API costs? See my notes in the README - costs should be minimal, and you can control it at every point. You can also use Ollama as a free alternative, which we discuss during Day 2."
   ]
  },
  {
   "cell_type": "code",
   "execution_count": 3,
   "id": "7b87cadb-d513-4303-baee-a37b6f938e4d",
   "metadata": {},
   "outputs": [
    {
     "name": "stdout",
     "output_type": "stream",
     "text": [
      "API key found and looks good so far!\n"
     ]
    }
   ],
   "source": [
    "# Load environment variables in a file called .env\n",
    "\n",
    "load_dotenv(override=True)\n",
    "api_key = os.getenv('OPENAI_API_KEY')\n",
    "\n",
    "# Check the key\n",
    "\n",
    "if not api_key:\n",
    "    print(\"No API key was found - please head over to the troubleshooting notebook in this folder to identify & fix!\")\n",
    "elif not api_key.startswith(\"sk-proj-\"):\n",
    "    print(\"An API key was found, but it doesn't start sk-proj-; please check you're using the right key - see troubleshooting notebook\")\n",
    "elif api_key.strip() != api_key:\n",
    "    print(\"An API key was found, but it looks like it might have space or tab characters at the start or end - please remove them - see troubleshooting notebook\")\n",
    "else:\n",
    "    print(\"API key found and looks good so far!\")\n"
   ]
  },
  {
   "cell_type": "code",
   "execution_count": 4,
   "id": "019974d9-f3ad-4a8a-b5f9-0a3719aea2d3",
   "metadata": {},
   "outputs": [],
   "source": [
    "openai = OpenAI()\n",
    "\n",
    "# If this doesn't work, try Kernel menu >> Restart Kernel and Clear Outputs Of All Cells, then run the cells from the top of this notebook down.\n",
    "# If it STILL doesn't work (horrors!) then please see the Troubleshooting notebook in this folder for full instructions"
   ]
  },
  {
   "cell_type": "markdown",
   "id": "442fc84b-0815-4f40-99ab-d9a5da6bda91",
   "metadata": {},
   "source": [
    "# Let's make a quick call to a Frontier model to get started, as a preview!"
   ]
  },
  {
   "cell_type": "code",
   "execution_count": 5,
   "id": "a58394bf-1e45-46af-9bfd-01e24da6f49a",
   "metadata": {},
   "outputs": [
    {
     "name": "stdout",
     "output_type": "stream",
     "text": [
      "Hello! Welcome! I’m glad to hear from you. How can I assist you today?\n"
     ]
    }
   ],
   "source": [
    "# To give you a preview -- calling OpenAI with these messages is this easy. Any problems, head over to the Troubleshooting notebook.\n",
    "\n",
    "message = \"Hello, GPT! This is my first ever message to you! Hi!\"\n",
    "response = openai.chat.completions.create(model=\"gpt-4o-mini\", messages=[{\"role\":\"user\", \"content\":message}])\n",
    "print(response.choices[0].message.content)"
   ]
  },
  {
   "cell_type": "markdown",
   "id": "2aa190e5-cb31-456a-96cc-db109919cd78",
   "metadata": {},
   "source": [
    "## OK onwards with our first project"
   ]
  },
  {
   "cell_type": "code",
   "execution_count": 6,
   "id": "c5e793b2-6775-426a-a139-4848291d0463",
   "metadata": {},
   "outputs": [],
   "source": [
    "# A class to represent a Webpage\n",
    "# If you're not familiar with Classes, check out the \"Intermediate Python\" notebook\n",
    "\n",
    "# Some websites need you to use proper headers when fetching them:\n",
    "headers = {\n",
    " \"User-Agent\": \"Mozilla/5.0 (Windows NT 10.0; Win64; x64) AppleWebKit/537.36 (KHTML, like Gecko) Chrome/117.0.0.0 Safari/537.36\"\n",
    "}\n",
    "\n",
    "class Website:\n",
    "\n",
    "    def __init__(self, url):\n",
    "        \"\"\"\n",
    "        Create this Website object from the given url using the BeautifulSoup library\n",
    "        \"\"\"\n",
    "        self.url = url\n",
    "        response = requests.get(url, headers=headers)\n",
    "        soup = BeautifulSoup(response.content, 'html.parser')\n",
    "        self.title = soup.title.string if soup.title else \"No title found\"\n",
    "        for irrelevant in soup.body([\"script\", \"style\", \"img\", \"input\"]):\n",
    "            irrelevant.decompose()\n",
    "        self.text = soup.body.get_text(separator=\"\\n\", strip=True)"
   ]
  },
  {
   "cell_type": "code",
   "execution_count": 7,
   "id": "2ef960cf-6dc2-4cda-afb3-b38be12f4c97",
   "metadata": {},
   "outputs": [
    {
     "name": "stdout",
     "output_type": "stream",
     "text": [
      "Strona główna - Strona OSP\n",
      "Zamów\n",
      "Zobacz demo\n",
      "Wersja próbna\n",
      "Kontakt\n",
      "Zaznacz stronę\n",
      "Profesjonalna strona dla OSP\n",
      "Łatwa w obsłudze strona internetowa, która pomoże Ci zbudować profesjonalny wizerunek OSP, przyciągnąć nowych członków i zaangażować lokalną społeczność.\n",
      "Zamów stronę\n",
      "Profesjonalna strona dla OSP\n",
      "Łatwa w obsłudze strona internetowa, która pomoże Ci zbudować profesjonalny wizerunek OSP, przyciągnąć nowych członków i zaangażować lokalną społeczność.\n",
      "Zobacz wersję demo\n",
      "OSP – Serce lokalnej społeczności\n",
      "Każda Ochotnicza Straż Pożarna jest sercem lokalnej społeczności. Ludzie liczą na Was w trudnych chwilach, ale równie ważne jest, aby znali Wasze działania na co dzień.\n",
      "Profesjonalna\n",
      "komunikacja pomaga budować zaufanie, pozyskiwać nowych członków i wzmacniać więź z mieszkańcami. W dzisiejszych czasach strona internetowa to nie tylko wizytówka – to\n",
      "narzędzie\n",
      ", które pozwala pokazać, kim jesteście i co robicie, w sposób atrakcyjny i nowoczesny.\n",
      "Wyzwania w zarządzaniu stroną\n",
      "Wielu strażaków ochotników zauważa, że utrzymanie profesjonalnego wizerunku online może być\n",
      "wyzwaniem.\n",
      "Tworzenie i prowadzenie strony często wymaga wiedzy technicznej, na którą brakuje czasu. Standardowe rozwiązania internetowe nie zawsze odpowiadają specyfice działalności OSP – trudno jest przedstawić sukcesy, aktywności czy inicjatywy w odpowiedniej formie, a to może zniechęcać do jej aktualizacji. Efekt? Strona przestaje być odwiedzana i przynosi więcej frustracji niż\n",
      "korzyści.\n",
      "Dedykowane Rozwiązania dla OSP\n",
      "Nasze dedykowane strony internetowe stworzone z myślą o OSP\n",
      "rozwiązują\n",
      "te problemy. Są nowoczesne, łatwe w obsłudze i dostosowane do Waszych potrzeb. Dzięki funkcjom takim jak galerie zdjęć z akcji, harmonogramy wydarzeń, formularze dla nowych członków czy miejsce na publikowanie sukcesów, możecie w prosty sposób\n",
      "zaangażować\n",
      "społeczność i wyróżnić się na tle innych. To narzędzie, które pozwala skupić się na tym, co najważniejsze – Waszej misji!\n",
      "Tak może wyglądać strona Twojej jednostki\n",
      "Zobacz wersję demo\n",
      "Zamów stronę\n",
      "Wyróżnij swoją jednostkę w sieci dzięki nowoczesnej stronie internetowej.\n",
      "Zamów stronę\n",
      "Możliwości naszej strony\n",
      "Strona jest intuicyjna w obsłudze i w pełni dopasowana do potrzeb Ochotniczej Straży Pożarnej. Nasze rozwiązanie oferuje wszystkie niezbędne narzędzia, które pomogą Ci skutecznie budować wizerunek jednostki w sieci.\n",
      "\n",
      "Działania ratowniczo-gaśnicze\n",
      "Dodaj informacje o akcji w wygodnym formularzu a akcja pojawi się na Twojej stronie.\n",
      "\n",
      "Wydarzenia z życia jednostki\n",
      "Udostępnij informacje o uroczystościach, ćwiczeniach, zbiórkach i innych wydarzeniach.\n",
      "\n",
      "Sponsorzy\n",
      "Prezentuj swoich sponsorów i zachęć ich do wspierania działalności jednostki.\n",
      "\n",
      "Ogłoszenia\n",
      "Na stronie szybko i w prosty sposób opublikujesz ważne ogłoszenia, dla strażaków i lokalnej społeczności.\n",
      "\n",
      "Szybkie statystyki akcji\n",
      "Monitorowania i dokumentowania aktywności jednostki dzięki automatycznym statystykom.\n",
      "\n",
      "Statystyki odwiedzin\n",
      "Monitoruj popularność swojej strony internetowej dzięki statystykom odwiedzin.\n",
      "\n",
      "Dostosowanie wyglądu strony\n",
      "Dostosuj wygląd do potrzeb jednostki. Ustaw kolory, czcionki, układ sekcji oraz własne logo.\n",
      "\n",
      "Własne podstrony\n",
      "Twórz i zarządzaj własnymi podstronami, dostosowując je do specyfiki działalności Twojej jednostki.\n",
      "\n",
      "Wygodna wyszukiwarka treści\n",
      "Wyszukiwarka treści w których szybko znajdziesz akcje i wydarzenia jednostki nawet z przed wielu lat.\n",
      "\n",
      "Publikacja statutu i dokumentów\n",
      "Udostępnij statut, uchwały zarządu, regulaminy i inne dokumenty.\n",
      "Pozyskaj środki na zakup strony\n",
      "Koszt stworzenia i utrzymania strony internetowej może szybko się zwrócić, przynosząc wiele\n",
      "korzyści\n",
      ". Jeśli w Twojej jednostce brakuje środków na jej zakup i utrzymanie, warto rozważyć skierowanie prośby o wsparcie finansowe do urzędu gminy lub prywatnego sponsora. Aby\n",
      "ułatwić\n",
      "Ci ten proces, przygotowaliśmy gotowe pismo, które możesz dostosować do swoich potrzeb i szybko przedłożyć odpowiedniej instytucji lub sponsorowi.\n",
      "Pobierz pismo do sponsorów\n",
      "Zalety strony internetowej\n",
      "Strona jest intuicyjna w obsłudze i w pełni dopasowana do potrzeb Ochotniczej Straży Pożarnej. Nasze rozwiązanie oferuje wszystkie niezbędne narzędzia, które pomogą Ci skutecznie budować wizerunek jednostki w sieci.\n",
      "\n",
      "Profesjonalny wizerunek jednostki OSP\n",
      "Dzięki stronie internetowej Twoja jednostka zyska profesjonalny i spójny wizerunek. Estetyczny wygląd, aktualne informacje oraz łatwy kontakt sprawiają, ze mieszkańcy odbierają Was jako zaufanych i zaangażowanych strażaków.\n",
      "\n",
      "Kronika online\n",
      "Strona to doskonałe narzędzie do dokumentowania historii i działalności Twojej jednostki. Dzięki niej możesz łatwo zapisywać ważne wydarzenia, akcje ratowniczo-gaśnicze, szkolenia czy osiągnięcia, które będą stanowiły cenną pamiątkę oraz materiał do przyszłych publikacji.\n",
      "\n",
      "Niezależność\n",
      "Posiadając własną stronę internetową, zyskujesz pełną kontrolę nad treściami i komunikacją. Niezależność od mediów społecznościowych pozwala Ci na swobodne publikowanie informacji, wydarzeń i ogłoszeń zapewniając stały dostęp do najważniejszych treści dla Twoich odbiorców.\n",
      "\n",
      "Dotarcie do nowych ochotników\n",
      "Strona internetowa to doskonałe narzędzie do dotarcia do nowych ochotników. Dzięki niej możesz łatwo informować o rekrutacji, wymaganiach i korzyściach płynących z bycia częścią OSP, przyciągając osoby gotowe do zaangażowania się w służbę na rzecz lokalnej społeczności.\n",
      "\n",
      "Więzi z lokalną społecznością\n",
      "Za pomocą strony internetowej możesz budować silne więzi z mieszkańcami. Ułatwiaj im dostęp do informacji, zapraszaj do udziału w wydarzeniach i na bieżąco informuj o działaniach jednostki, co pomoże w integracji i zaufaniu społeczności, a także na zachęceniu do współpracy i udziału w lokalnych inicjatywach.\n",
      "\n",
      "Sponsorzy\n",
      "Własna strona internetowa to doskonały sposób na budowanie trwałych relacji z sponsorami. Dzięki możliwości umieszczania reklamy, nie tylko podziękujesz stałym partnerom, ale także przyciągniesz nowych darczyńców, wzmacniając wsparcie dla Twojej jednostki.\n",
      "\n",
      "Skrzynka pocztowa\n",
      "Skrzynka pocztowa we własnej domenie to profesjonalne narzędzie do komunikacji. Dzięki niej, możesz tworzyć adresy e-mail związane bezpośrednio z nazwą Twojej jednostki, co podnosi wiarygodność i ułatwia kontakt z mieszkańcami, sponsorami i partnerami.\n",
      "\n",
      "Edukacja i informacja\n",
      "Strona internetowa to doskonała platforma do szerzenia wiedzy na temat bezpieczeństwa, pierwszej pomocy oraz działań ratowniczo-gaśniczych. Dzięki niej możesz regularnie publikować artykuły, poradniki i materiały edukacyjne, które zwiększą świadomość mieszkańców i pomogą w przygotowaniu ich na sytuacje kryzysowe.\n",
      "Dlaczego warto mieć własną przestrzeń w sieci?\n",
      "Twoja strona, Twoje zasady\n",
      "Posiadanie własnej strony internetowej to gwarancja pełnej kontroli nad informacjami, jakie przekazujesz, oraz sposobem, w jaki prezentujesz swoją działalność. Media społecznościowe mogą być świetnym narzędziem do komunikacji, ale ich funkcjonowanie zależy od zmieniających się algorytmów, polityk platform czy dostępności technicznej. Własna strona internetowa daje Ci niezależność – to Ty decydujesz, jakie treści publikujesz, w jakiej formie i kiedy.\n",
      "To także przestrzeń, która nie ginie w natłoku informacji i reklam typowych dla mediów społecznościowych. Na stronie możesz w pełni dostosować układ i zawartość do swoich potrzeb, budując profesjonalny wizerunek jednostki i zapewniając odbiorcom łatwy dostęp do kluczowych informacji. Pamiętaj – media społecznościowe są wsparciem, ale to strona internetowa jest podstawą Twojej obecności w sieci.\n",
      "Współpracujemy z:\n",
      "FAQ\n",
      "Jak długo trwa realizacja zamówienia?\n",
      "Realizacja zamówienia rozpoczyna się po potwierdzeniu dokonania opłaty. Cały proces może potrwać maksymalnie do 7 dni roboczych. Dokładamy wszelkich starań, aby dostarczyć gotową stronę jak najszybciej, a w przypadku jakichkolwiek opóźnień, będziemy informować na bieżąco.\n",
      "Czy prowadzenie strony jest trudne?\n",
      "Nie! Nasze strony są wyposażone w intuicyjny panel administracyjny, który pozwala na samodzielną aktualizację treści bez znajomości programowania.Stronę przygotowujemy w taki sposóg aby prowadzenie strony było proste i wygodne.\n",
      "Czy otrzymam fakturę?\n",
      "Tak, na każde zamówienie wystawiana jest faktura VAT, dane do faktury podasz podczas składania zamówienia\n",
      "Jaki jest koszt utrzymania strony po roku?\n",
      "Roczny koszt utrzymania strony to około 300-500 zł i obejmuje:\n",
      "– Domena – około 80 zł rocznie\n",
      "– Hosting – około 200 zł rocznie\n",
      "Czy potrzebuję i polityki prywatności?\n",
      "Tak, każda strona internetowa zbierająca jakiekolwiek dane użytkowników (np. przez formularze kontaktowe czy pliki cookie) wymaga polityki prywatności. W ramach naszej usługi przygotowujemy wszystkie niezbędne dokumenty prawne, każdy jednak może zamieścić własny plik z polityką prywatności.\n",
      "Co zawiera cena strony?\n",
      "W cenie strony otrzymujesz:\n",
      "– Projekt graficzny\n",
      "– Responsywny design\n",
      "– Optymalizację pod SEO\n",
      "– Integrację z mediami społecznościowymi\n",
      "– Panel administracyjny\n",
      "Czy strona będzie działać na telefonach?\n",
      "Tak! Wszystkie nasze strony są w pełni responsywne, co oznacza, że automatycznie dostosowują się do różnych rozmiarów ekranów: komputerów, tabletów i smartfonów.\n",
      "Jakie metody płatności akceptujecie?\n",
      "Akceptujemy różne formy płatności:\n",
      "– Przelew bankowy\n",
      "Czy pomagacie w pozycjonowaniu strony?\n",
      "Tak, wszystkie nasze strony są zoptymalizowane pod SEO.\n",
      "Podziel się z zaprzyjaźnionymi jednostkami!\n",
      "Jeżeli to, co widzisz wydaje Ci się warte uwagi, to może przyda się również innym jednostkom?\n",
      "Podziel się tą informacją!\n",
      "Dziękujemy!\n",
      "Obserwuj\n",
      "Profesjonalne i łatwe w obsłudze strony dla OSP\n",
      "Złóż zamówienie i ciesz się\n",
      "stron\n",
      "ą, która\n",
      "przycią\n",
      "gn\n",
      "ie\n",
      "uwagę\n",
      "Twojej społecz\n",
      "ności!\n",
      "Zamów stronę\n",
      "Sprawdź jak już niedługo może wyglądać strona Twojej jednostki.\n",
      "Zobacz wersję demo\n",
      "Kontakt\n",
      "Masz pytania? Skontaktuj się z nami!\n",
      "Jesteśmy dostępni pod adresem e-mail:\n",
      "kontakt@stronaosp.pl\n",
      "Zobacz:\n",
      "Polityka prywatności\n",
      "Regulamin\n",
      "Copyright © 2025 Strona OSP\n",
      "Obserwuj\n",
      "Profesjonalne i łatwe w obsłudze strony dla OSP\n",
      "Złóż zamówienie i ciesz się\n",
      "stron\n",
      "ą, która\n",
      "przycią\n",
      "gn\n",
      "ie\n",
      "uwagę\n",
      "Twojej społecz\n",
      "ności!\n",
      "Zamów stronę\n",
      "Sprawdź jak już niedługo może wyglądać strona Twojej jednostki.\n",
      "Zobacz wersję demo\n",
      "Kontakt\n",
      "Masz pytania? Skontaktuj się z nami!\n",
      "Jesteśmy dostępni pod adresem e-mail:\n",
      "kontakt@stronaosp.pl\n",
      "Zobacz:\n",
      "Polityka prywatności\n",
      "Regulamin\n",
      "Copyright © 2025 Strona OSP\n",
      "Obserwuj\n"
     ]
    }
   ],
   "source": [
    "# Let's try one out. Change the website and add print statements to follow along.\n",
    "\n",
    "ed = Website(\"https://stronaosp.pl\")\n",
    "print(ed.title)\n",
    "print(ed.text)"
   ]
  },
  {
   "cell_type": "markdown",
   "id": "6a478a0c-2c53-48ff-869c-4d08199931e1",
   "metadata": {},
   "source": [
    "## Types of prompts\n",
    "\n",
    "You may know this already - but if not, you will get very familiar with it!\n",
    "\n",
    "Models like GPT4o have been trained to receive instructions in a particular way.\n",
    "\n",
    "They expect to receive:\n",
    "\n",
    "**A system prompt** that tells them what task they are performing and what tone they should use\n",
    "\n",
    "**A user prompt** -- the conversation starter that they should reply to"
   ]
  },
  {
   "cell_type": "code",
   "execution_count": 8,
   "id": "abdb8417-c5dc-44bc-9bee-2e059d162699",
   "metadata": {},
   "outputs": [],
   "source": [
    "# Define our system prompt - you can experiment with this later, changing the last sentence to 'Respond in markdown in Spanish.\"\n",
    "\n",
    "system_prompt = \"Jesteś asystentem, który analizuje zawartość strony internetowej \\\n",
    "i zapewnia krótkie podsumowanie, ignorując tekst, który może być związany z nawigacją. \\\n",
    "Odpowiadaj w markdown.\""
   ]
  },
  {
   "cell_type": "code",
   "execution_count": 9,
   "id": "f0275b1b-7cfe-4f9d-abfa-7650d378da0c",
   "metadata": {},
   "outputs": [],
   "source": [
    "# A function that writes a User Prompt that asks for summaries of websites:\n",
    "\n",
    "def user_prompt_for(website):\n",
    "    user_prompt = f\"Przeglądasz stronę internetową zatytułowaną {website.title}\"\n",
    "    user_prompt += \"\\nZawartość tej strony jest następująca; \\\n",
    "Proszę o krótkie podsumowanie tej strony w markdown. \\\n",
    "Jeśli zawiera wiadomości lub ogłoszenia, również je podsumuj.\\n\\n\"\n",
    "    user_prompt += website.text\n",
    "    return user_prompt"
   ]
  },
  {
   "cell_type": "code",
   "execution_count": 10,
   "id": "26448ec4-5c00-4204-baec-7df91d11ff2e",
   "metadata": {},
   "outputs": [
    {
     "name": "stdout",
     "output_type": "stream",
     "text": [
      "Przeglądasz stronę internetową zatytułowaną Strona główna - Strona OSP\n",
      "Zawartość tej strony jest następująca; Proszę o krótkie podsumowanie tej strony w markdown. Jeśli zawiera wiadomości lub ogłoszenia, również je podsumuj.\n",
      "\n",
      "Zamów\n",
      "Zobacz demo\n",
      "Wersja próbna\n",
      "Kontakt\n",
      "Zaznacz stronę\n",
      "Profesjonalna strona dla OSP\n",
      "Łatwa w obsłudze strona internetowa, która pomoże Ci zbudować profesjonalny wizerunek OSP, przyciągnąć nowych członków i zaangażować lokalną społeczność.\n",
      "Zamów stronę\n",
      "Profesjonalna strona dla OSP\n",
      "Łatwa w obsłudze strona internetowa, która pomoże Ci zbudować profesjonalny wizerunek OSP, przyciągnąć nowych członków i zaangażować lokalną społeczność.\n",
      "Zobacz wersję demo\n",
      "OSP – Serce lokalnej społeczności\n",
      "Każda Ochotnicza Straż Pożarna jest sercem lokalnej społeczności. Ludzie liczą na Was w trudnych chwilach, ale równie ważne jest, aby znali Wasze działania na co dzień.\n",
      "Profesjonalna\n",
      "komunikacja pomaga budować zaufanie, pozyskiwać nowych członków i wzmacniać więź z mieszkańcami. W dzisiejszych czasach strona internetowa to nie tylko wizytówka – to\n",
      "narzędzie\n",
      ", które pozwala pokazać, kim jesteście i co robicie, w sposób atrakcyjny i nowoczesny.\n",
      "Wyzwania w zarządzaniu stroną\n",
      "Wielu strażaków ochotników zauważa, że utrzymanie profesjonalnego wizerunku online może być\n",
      "wyzwaniem.\n",
      "Tworzenie i prowadzenie strony często wymaga wiedzy technicznej, na którą brakuje czasu. Standardowe rozwiązania internetowe nie zawsze odpowiadają specyfice działalności OSP – trudno jest przedstawić sukcesy, aktywności czy inicjatywy w odpowiedniej formie, a to może zniechęcać do jej aktualizacji. Efekt? Strona przestaje być odwiedzana i przynosi więcej frustracji niż\n",
      "korzyści.\n",
      "Dedykowane Rozwiązania dla OSP\n",
      "Nasze dedykowane strony internetowe stworzone z myślą o OSP\n",
      "rozwiązują\n",
      "te problemy. Są nowoczesne, łatwe w obsłudze i dostosowane do Waszych potrzeb. Dzięki funkcjom takim jak galerie zdjęć z akcji, harmonogramy wydarzeń, formularze dla nowych członków czy miejsce na publikowanie sukcesów, możecie w prosty sposób\n",
      "zaangażować\n",
      "społeczność i wyróżnić się na tle innych. To narzędzie, które pozwala skupić się na tym, co najważniejsze – Waszej misji!\n",
      "Tak może wyglądać strona Twojej jednostki\n",
      "Zobacz wersję demo\n",
      "Zamów stronę\n",
      "Wyróżnij swoją jednostkę w sieci dzięki nowoczesnej stronie internetowej.\n",
      "Zamów stronę\n",
      "Możliwości naszej strony\n",
      "Strona jest intuicyjna w obsłudze i w pełni dopasowana do potrzeb Ochotniczej Straży Pożarnej. Nasze rozwiązanie oferuje wszystkie niezbędne narzędzia, które pomogą Ci skutecznie budować wizerunek jednostki w sieci.\n",
      "\n",
      "Działania ratowniczo-gaśnicze\n",
      "Dodaj informacje o akcji w wygodnym formularzu a akcja pojawi się na Twojej stronie.\n",
      "\n",
      "Wydarzenia z życia jednostki\n",
      "Udostępnij informacje o uroczystościach, ćwiczeniach, zbiórkach i innych wydarzeniach.\n",
      "\n",
      "Sponsorzy\n",
      "Prezentuj swoich sponsorów i zachęć ich do wspierania działalności jednostki.\n",
      "\n",
      "Ogłoszenia\n",
      "Na stronie szybko i w prosty sposób opublikujesz ważne ogłoszenia, dla strażaków i lokalnej społeczności.\n",
      "\n",
      "Szybkie statystyki akcji\n",
      "Monitorowania i dokumentowania aktywności jednostki dzięki automatycznym statystykom.\n",
      "\n",
      "Statystyki odwiedzin\n",
      "Monitoruj popularność swojej strony internetowej dzięki statystykom odwiedzin.\n",
      "\n",
      "Dostosowanie wyglądu strony\n",
      "Dostosuj wygląd do potrzeb jednostki. Ustaw kolory, czcionki, układ sekcji oraz własne logo.\n",
      "\n",
      "Własne podstrony\n",
      "Twórz i zarządzaj własnymi podstronami, dostosowując je do specyfiki działalności Twojej jednostki.\n",
      "\n",
      "Wygodna wyszukiwarka treści\n",
      "Wyszukiwarka treści w których szybko znajdziesz akcje i wydarzenia jednostki nawet z przed wielu lat.\n",
      "\n",
      "Publikacja statutu i dokumentów\n",
      "Udostępnij statut, uchwały zarządu, regulaminy i inne dokumenty.\n",
      "Pozyskaj środki na zakup strony\n",
      "Koszt stworzenia i utrzymania strony internetowej może szybko się zwrócić, przynosząc wiele\n",
      "korzyści\n",
      ". Jeśli w Twojej jednostce brakuje środków na jej zakup i utrzymanie, warto rozważyć skierowanie prośby o wsparcie finansowe do urzędu gminy lub prywatnego sponsora. Aby\n",
      "ułatwić\n",
      "Ci ten proces, przygotowaliśmy gotowe pismo, które możesz dostosować do swoich potrzeb i szybko przedłożyć odpowiedniej instytucji lub sponsorowi.\n",
      "Pobierz pismo do sponsorów\n",
      "Zalety strony internetowej\n",
      "Strona jest intuicyjna w obsłudze i w pełni dopasowana do potrzeb Ochotniczej Straży Pożarnej. Nasze rozwiązanie oferuje wszystkie niezbędne narzędzia, które pomogą Ci skutecznie budować wizerunek jednostki w sieci.\n",
      "\n",
      "Profesjonalny wizerunek jednostki OSP\n",
      "Dzięki stronie internetowej Twoja jednostka zyska profesjonalny i spójny wizerunek. Estetyczny wygląd, aktualne informacje oraz łatwy kontakt sprawiają, ze mieszkańcy odbierają Was jako zaufanych i zaangażowanych strażaków.\n",
      "\n",
      "Kronika online\n",
      "Strona to doskonałe narzędzie do dokumentowania historii i działalności Twojej jednostki. Dzięki niej możesz łatwo zapisywać ważne wydarzenia, akcje ratowniczo-gaśnicze, szkolenia czy osiągnięcia, które będą stanowiły cenną pamiątkę oraz materiał do przyszłych publikacji.\n",
      "\n",
      "Niezależność\n",
      "Posiadając własną stronę internetową, zyskujesz pełną kontrolę nad treściami i komunikacją. Niezależność od mediów społecznościowych pozwala Ci na swobodne publikowanie informacji, wydarzeń i ogłoszeń zapewniając stały dostęp do najważniejszych treści dla Twoich odbiorców.\n",
      "\n",
      "Dotarcie do nowych ochotników\n",
      "Strona internetowa to doskonałe narzędzie do dotarcia do nowych ochotników. Dzięki niej możesz łatwo informować o rekrutacji, wymaganiach i korzyściach płynących z bycia częścią OSP, przyciągając osoby gotowe do zaangażowania się w służbę na rzecz lokalnej społeczności.\n",
      "\n",
      "Więzi z lokalną społecznością\n",
      "Za pomocą strony internetowej możesz budować silne więzi z mieszkańcami. Ułatwiaj im dostęp do informacji, zapraszaj do udziału w wydarzeniach i na bieżąco informuj o działaniach jednostki, co pomoże w integracji i zaufaniu społeczności, a także na zachęceniu do współpracy i udziału w lokalnych inicjatywach.\n",
      "\n",
      "Sponsorzy\n",
      "Własna strona internetowa to doskonały sposób na budowanie trwałych relacji z sponsorami. Dzięki możliwości umieszczania reklamy, nie tylko podziękujesz stałym partnerom, ale także przyciągniesz nowych darczyńców, wzmacniając wsparcie dla Twojej jednostki.\n",
      "\n",
      "Skrzynka pocztowa\n",
      "Skrzynka pocztowa we własnej domenie to profesjonalne narzędzie do komunikacji. Dzięki niej, możesz tworzyć adresy e-mail związane bezpośrednio z nazwą Twojej jednostki, co podnosi wiarygodność i ułatwia kontakt z mieszkańcami, sponsorami i partnerami.\n",
      "\n",
      "Edukacja i informacja\n",
      "Strona internetowa to doskonała platforma do szerzenia wiedzy na temat bezpieczeństwa, pierwszej pomocy oraz działań ratowniczo-gaśniczych. Dzięki niej możesz regularnie publikować artykuły, poradniki i materiały edukacyjne, które zwiększą świadomość mieszkańców i pomogą w przygotowaniu ich na sytuacje kryzysowe.\n",
      "Dlaczego warto mieć własną przestrzeń w sieci?\n",
      "Twoja strona, Twoje zasady\n",
      "Posiadanie własnej strony internetowej to gwarancja pełnej kontroli nad informacjami, jakie przekazujesz, oraz sposobem, w jaki prezentujesz swoją działalność. Media społecznościowe mogą być świetnym narzędziem do komunikacji, ale ich funkcjonowanie zależy od zmieniających się algorytmów, polityk platform czy dostępności technicznej. Własna strona internetowa daje Ci niezależność – to Ty decydujesz, jakie treści publikujesz, w jakiej formie i kiedy.\n",
      "To także przestrzeń, która nie ginie w natłoku informacji i reklam typowych dla mediów społecznościowych. Na stronie możesz w pełni dostosować układ i zawartość do swoich potrzeb, budując profesjonalny wizerunek jednostki i zapewniając odbiorcom łatwy dostęp do kluczowych informacji. Pamiętaj – media społecznościowe są wsparciem, ale to strona internetowa jest podstawą Twojej obecności w sieci.\n",
      "Współpracujemy z:\n",
      "FAQ\n",
      "Jak długo trwa realizacja zamówienia?\n",
      "Realizacja zamówienia rozpoczyna się po potwierdzeniu dokonania opłaty. Cały proces może potrwać maksymalnie do 7 dni roboczych. Dokładamy wszelkich starań, aby dostarczyć gotową stronę jak najszybciej, a w przypadku jakichkolwiek opóźnień, będziemy informować na bieżąco.\n",
      "Czy prowadzenie strony jest trudne?\n",
      "Nie! Nasze strony są wyposażone w intuicyjny panel administracyjny, który pozwala na samodzielną aktualizację treści bez znajomości programowania.Stronę przygotowujemy w taki sposóg aby prowadzenie strony było proste i wygodne.\n",
      "Czy otrzymam fakturę?\n",
      "Tak, na każde zamówienie wystawiana jest faktura VAT, dane do faktury podasz podczas składania zamówienia\n",
      "Jaki jest koszt utrzymania strony po roku?\n",
      "Roczny koszt utrzymania strony to około 300-500 zł i obejmuje:\n",
      "– Domena – około 80 zł rocznie\n",
      "– Hosting – około 200 zł rocznie\n",
      "Czy potrzebuję i polityki prywatności?\n",
      "Tak, każda strona internetowa zbierająca jakiekolwiek dane użytkowników (np. przez formularze kontaktowe czy pliki cookie) wymaga polityki prywatności. W ramach naszej usługi przygotowujemy wszystkie niezbędne dokumenty prawne, każdy jednak może zamieścić własny plik z polityką prywatności.\n",
      "Co zawiera cena strony?\n",
      "W cenie strony otrzymujesz:\n",
      "– Projekt graficzny\n",
      "– Responsywny design\n",
      "– Optymalizację pod SEO\n",
      "– Integrację z mediami społecznościowymi\n",
      "– Panel administracyjny\n",
      "Czy strona będzie działać na telefonach?\n",
      "Tak! Wszystkie nasze strony są w pełni responsywne, co oznacza, że automatycznie dostosowują się do różnych rozmiarów ekranów: komputerów, tabletów i smartfonów.\n",
      "Jakie metody płatności akceptujecie?\n",
      "Akceptujemy różne formy płatności:\n",
      "– Przelew bankowy\n",
      "Czy pomagacie w pozycjonowaniu strony?\n",
      "Tak, wszystkie nasze strony są zoptymalizowane pod SEO.\n",
      "Podziel się z zaprzyjaźnionymi jednostkami!\n",
      "Jeżeli to, co widzisz wydaje Ci się warte uwagi, to może przyda się również innym jednostkom?\n",
      "Podziel się tą informacją!\n",
      "Dziękujemy!\n",
      "Obserwuj\n",
      "Profesjonalne i łatwe w obsłudze strony dla OSP\n",
      "Złóż zamówienie i ciesz się\n",
      "stron\n",
      "ą, która\n",
      "przycią\n",
      "gn\n",
      "ie\n",
      "uwagę\n",
      "Twojej społecz\n",
      "ności!\n",
      "Zamów stronę\n",
      "Sprawdź jak już niedługo może wyglądać strona Twojej jednostki.\n",
      "Zobacz wersję demo\n",
      "Kontakt\n",
      "Masz pytania? Skontaktuj się z nami!\n",
      "Jesteśmy dostępni pod adresem e-mail:\n",
      "kontakt@stronaosp.pl\n",
      "Zobacz:\n",
      "Polityka prywatności\n",
      "Regulamin\n",
      "Copyright © 2025 Strona OSP\n",
      "Obserwuj\n",
      "Profesjonalne i łatwe w obsłudze strony dla OSP\n",
      "Złóż zamówienie i ciesz się\n",
      "stron\n",
      "ą, która\n",
      "przycią\n",
      "gn\n",
      "ie\n",
      "uwagę\n",
      "Twojej społecz\n",
      "ności!\n",
      "Zamów stronę\n",
      "Sprawdź jak już niedługo może wyglądać strona Twojej jednostki.\n",
      "Zobacz wersję demo\n",
      "Kontakt\n",
      "Masz pytania? Skontaktuj się z nami!\n",
      "Jesteśmy dostępni pod adresem e-mail:\n",
      "kontakt@stronaosp.pl\n",
      "Zobacz:\n",
      "Polityka prywatności\n",
      "Regulamin\n",
      "Copyright © 2025 Strona OSP\n",
      "Obserwuj\n"
     ]
    }
   ],
   "source": [
    "print(user_prompt_for(ed))"
   ]
  },
  {
   "cell_type": "markdown",
   "id": "ea211b5f-28e1-4a86-8e52-c0b7677cadcc",
   "metadata": {},
   "source": [
    "## Messages\n",
    "\n",
    "The API from OpenAI expects to receive messages in a particular structure.\n",
    "Many of the other APIs share this structure:\n",
    "\n",
    "```\n",
    "[\n",
    "    {\"role\": \"system\", \"content\": \"system message goes here\"},\n",
    "    {\"role\": \"user\", \"content\": \"user message goes here\"}\n",
    "]\n",
    "\n",
    "To give you a preview, the next 2 cells make a rather simple call - we won't stretch the mighty GPT (yet!)"
   ]
  },
  {
   "cell_type": "code",
   "execution_count": 11,
   "id": "f25dcd35-0cd0-4235-9f64-ac37ed9eaaa5",
   "metadata": {},
   "outputs": [],
   "source": [
    "messages = [\n",
    "    {\"role\": \"system\", \"content\": \"You are a snarky assistant\"},\n",
    "    {\"role\": \"user\", \"content\": \"What is 2 + 2?\"}\n",
    "]"
   ]
  },
  {
   "cell_type": "code",
   "execution_count": 12,
   "id": "21ed95c5-7001-47de-a36d-1d6673b403ce",
   "metadata": {},
   "outputs": [
    {
     "name": "stdout",
     "output_type": "stream",
     "text": [
      "Oh, you’re really hitting me with the tough questions, huh? Well, 2 + 2 equals 4. Mind-blowing, I know!\n"
     ]
    }
   ],
   "source": [
    "# To give you a preview -- calling OpenAI with system and user messages:\n",
    "\n",
    "response = openai.chat.completions.create(model=\"gpt-4o-mini\", messages=messages)\n",
    "print(response.choices[0].message.content)"
   ]
  },
  {
   "cell_type": "markdown",
   "id": "d06e8d78-ce4c-4b05-aa8e-17050c82bb47",
   "metadata": {},
   "source": [
    "## And now let's build useful messages for GPT-4o-mini, using a function"
   ]
  },
  {
   "cell_type": "code",
   "execution_count": 13,
   "id": "0134dfa4-8299-48b5-b444-f2a8c3403c88",
   "metadata": {},
   "outputs": [],
   "source": [
    "# See how this function creates exactly the format above\n",
    "\n",
    "def messages_for(website):\n",
    "    return [\n",
    "        {\"role\": \"system\", \"content\": system_prompt},\n",
    "        {\"role\": \"user\", \"content\": user_prompt_for(website)}\n",
    "    ]"
   ]
  },
  {
   "cell_type": "code",
   "execution_count": 14,
   "id": "36478464-39ee-485c-9f3f-6a4e458dbc9c",
   "metadata": {},
   "outputs": [
    {
     "data": {
      "text/plain": [
       "[{'role': 'system',\n",
       "  'content': 'Jesteś asystentem, który analizuje zawartość strony internetowej i zapewnia krótkie podsumowanie, ignorując tekst, który może być związany z nawigacją. Odpowiadaj w markdown.'},\n",
       " {'role': 'user',\n",
       "  'content': 'Przeglądasz stronę internetową zatytułowaną Strona główna - Strona OSP\\nZawartość tej strony jest następująca; Proszę o krótkie podsumowanie tej strony w markdown. Jeśli zawiera wiadomości lub ogłoszenia, również je podsumuj.\\n\\nZamów\\nZobacz demo\\nWersja próbna\\nKontakt\\nZaznacz stronę\\nProfesjonalna strona dla OSP\\nŁatwa w obsłudze strona internetowa, która pomoże Ci zbudować profesjonalny wizerunek OSP, przyciągnąć nowych członków i zaangażować lokalną społeczność.\\nZamów stronę\\nProfesjonalna strona dla OSP\\nŁatwa w obsłudze strona internetowa, która pomoże Ci zbudować profesjonalny wizerunek OSP, przyciągnąć nowych członków i zaangażować lokalną społeczność.\\nZobacz wersję demo\\nOSP – Serce lokalnej społeczności\\nKażda Ochotnicza Straż Pożarna jest sercem lokalnej społeczności. Ludzie liczą na Was w trudnych chwilach, ale równie ważne jest, aby znali Wasze działania na co dzień.\\nProfesjonalna\\nkomunikacja pomaga budować zaufanie, pozyskiwać nowych członków i wzmacniać więź z mieszkańcami. W dzisiejszych czasach strona internetowa to nie tylko wizytówka – to\\nnarzędzie\\n, które pozwala pokazać, kim jesteście i co robicie, w sposób atrakcyjny i nowoczesny.\\nWyzwania w zarządzaniu stroną\\nWielu strażaków ochotników zauważa, że utrzymanie profesjonalnego wizerunku online może być\\nwyzwaniem.\\nTworzenie i prowadzenie strony często wymaga wiedzy technicznej, na którą brakuje czasu. Standardowe rozwiązania internetowe nie zawsze odpowiadają specyfice działalności OSP – trudno jest przedstawić sukcesy, aktywności czy inicjatywy w odpowiedniej formie, a to może zniechęcać do jej aktualizacji. Efekt? Strona przestaje być odwiedzana i przynosi więcej frustracji niż\\nkorzyści.\\nDedykowane Rozwiązania dla OSP\\nNasze dedykowane strony internetowe stworzone z myślą o OSP\\nrozwiązują\\nte problemy. Są nowoczesne, łatwe w obsłudze i dostosowane do Waszych potrzeb. Dzięki funkcjom takim jak galerie zdjęć z akcji, harmonogramy wydarzeń, formularze dla nowych członków czy miejsce na publikowanie sukcesów, możecie w prosty sposób\\nzaangażować\\nspołeczność i wyróżnić się na tle innych. To narzędzie, które pozwala skupić się na tym, co najważniejsze – Waszej misji!\\nTak może wyglądać strona Twojej jednostki\\nZobacz wersję demo\\nZamów stronę\\nWyróżnij swoją jednostkę w sieci dzięki nowoczesnej stronie internetowej.\\nZamów stronę\\nMożliwości naszej strony\\nStrona jest intuicyjna w obsłudze i w pełni dopasowana do potrzeb Ochotniczej Straży Pożarnej. Nasze rozwiązanie oferuje wszystkie niezbędne narzędzia, które pomogą Ci skutecznie budować wizerunek jednostki w sieci.\\n\\uf06d\\nDziałania ratowniczo-gaśnicze\\nDodaj informacje o akcji w wygodnym formularzu a akcja pojawi się na Twojej stronie.\\n\\uf518\\nWydarzenia z życia jednostki\\nUdostępnij informacje o uroczystościach, ćwiczeniach, zbiórkach i innych wydarzeniach.\\n\\uf4c0\\nSponsorzy\\nPrezentuj swoich sponsorów i zachęć ich do wspierania działalności jednostki.\\n\\uf0a1\\nOgłoszenia\\nNa stronie szybko i w prosty sposób opublikujesz ważne ogłoszenia, dla strażaków i lokalnej społeczności.\\n\\ue029\\nSzybkie statystyki akcji\\nMonitorowania i dokumentowania aktywności jednostki dzięki automatycznym statystykom.\\n\\ue0ec\\nStatystyki odwiedzin\\nMonitoruj popularność swojej strony internetowej dzięki statystykom odwiedzin.\\n\\uf1de\\nDostosowanie wyglądu strony\\nDostosuj wygląd do potrzeb jednostki. Ustaw kolory, czcionki, układ sekcji oraz własne logo.\\n\\ue609\\nWłasne podstrony\\nTwórz i zarządzaj własnymi podstronami, dostosowując je do specyfiki działalności Twojej jednostki.\\n\\uf002\\nWygodna wyszukiwarka treści\\nWyszukiwarka treści w których szybko znajdziesz akcje i wydarzenia jednostki nawet z przed wielu lat.\\n\\ue058\\nPublikacja statutu i dokumentów\\nUdostępnij statut, uchwały zarządu, regulaminy i inne dokumenty.\\nPozyskaj środki na zakup strony\\nKoszt stworzenia i utrzymania strony internetowej może szybko się zwrócić, przynosząc wiele\\nkorzyści\\n. Jeśli w Twojej jednostce brakuje środków na jej zakup i utrzymanie, warto rozważyć skierowanie prośby o wsparcie finansowe do urzędu gminy lub prywatnego sponsora. Aby\\nułatwić\\nCi ten proces, przygotowaliśmy gotowe pismo, które możesz dostosować do swoich potrzeb i szybko przedłożyć odpowiedniej instytucji lub sponsorowi.\\nPobierz pismo do sponsorów\\nZalety strony internetowej\\nStrona jest intuicyjna w obsłudze i w pełni dopasowana do potrzeb Ochotniczej Straży Pożarnej. Nasze rozwiązanie oferuje wszystkie niezbędne narzędzia, które pomogą Ci skutecznie budować wizerunek jednostki w sieci.\\n\\uf3a5\\nProfesjonalny wizerunek jednostki OSP\\nDzięki stronie internetowej Twoja jednostka zyska profesjonalny i spójny wizerunek. Estetyczny wygląd, aktualne informacje oraz łatwy kontakt sprawiają, ze mieszkańcy odbierają Was jako zaufanych i zaangażowanych strażaków.\\n\\uf3a5\\nKronika online\\nStrona to doskonałe narzędzie do dokumentowania historii i działalności Twojej jednostki. Dzięki niej możesz łatwo zapisywać ważne wydarzenia, akcje ratowniczo-gaśnicze, szkolenia czy osiągnięcia, które będą stanowiły cenną pamiątkę oraz materiał do przyszłych publikacji.\\n\\uf3a5\\nNiezależność\\nPosiadając własną stronę internetową, zyskujesz pełną kontrolę nad treściami i komunikacją. Niezależność od mediów społecznościowych pozwala Ci na swobodne publikowanie informacji, wydarzeń i ogłoszeń zapewniając stały dostęp do najważniejszych treści dla Twoich odbiorców.\\n\\uf3a5\\nDotarcie do nowych ochotników\\nStrona internetowa to doskonałe narzędzie do dotarcia do nowych ochotników. Dzięki niej możesz łatwo informować o rekrutacji, wymaganiach i korzyściach płynących z bycia częścią OSP, przyciągając osoby gotowe do zaangażowania się w służbę na rzecz lokalnej społeczności.\\n\\uf3a5\\nWięzi z lokalną społecznością\\nZa pomocą strony internetowej możesz budować silne więzi z mieszkańcami. Ułatwiaj im dostęp do informacji, zapraszaj do udziału w wydarzeniach i na bieżąco informuj o działaniach jednostki, co pomoże w integracji i zaufaniu społeczności, a także na zachęceniu do współpracy i udziału w lokalnych inicjatywach.\\n\\uf3a5\\nSponsorzy\\nWłasna strona internetowa to doskonały sposób na budowanie trwałych relacji z sponsorami. Dzięki możliwości umieszczania reklamy, nie tylko podziękujesz stałym partnerom, ale także przyciągniesz nowych darczyńców, wzmacniając wsparcie dla Twojej jednostki.\\n\\uf3a5\\nSkrzynka pocztowa\\nSkrzynka pocztowa we własnej domenie to profesjonalne narzędzie do komunikacji. Dzięki niej, możesz tworzyć adresy e-mail związane bezpośrednio z nazwą Twojej jednostki, co podnosi wiarygodność i ułatwia kontakt z mieszkańcami, sponsorami i partnerami.\\n\\uf3a5\\nEdukacja i informacja\\nStrona internetowa to doskonała platforma do szerzenia wiedzy na temat bezpieczeństwa, pierwszej pomocy oraz działań ratowniczo-gaśniczych. Dzięki niej możesz regularnie publikować artykuły, poradniki i materiały edukacyjne, które zwiększą świadomość mieszkańców i pomogą w przygotowaniu ich na sytuacje kryzysowe.\\nDlaczego warto mieć własną przestrzeń w sieci?\\nTwoja strona, Twoje zasady\\nPosiadanie własnej strony internetowej to gwarancja pełnej kontroli nad informacjami, jakie przekazujesz, oraz sposobem, w jaki prezentujesz swoją działalność. Media społecznościowe mogą być świetnym narzędziem do komunikacji, ale ich funkcjonowanie zależy od zmieniających się algorytmów, polityk platform czy dostępności technicznej. Własna strona internetowa daje Ci niezależność – to Ty decydujesz, jakie treści publikujesz, w jakiej formie i kiedy.\\nTo także przestrzeń, która nie ginie w natłoku informacji i reklam typowych dla mediów społecznościowych. Na stronie możesz w pełni dostosować układ i zawartość do swoich potrzeb, budując profesjonalny wizerunek jednostki i zapewniając odbiorcom łatwy dostęp do kluczowych informacji. Pamiętaj – media społecznościowe są wsparciem, ale to strona internetowa jest podstawą Twojej obecności w sieci.\\nWspółpracujemy z:\\nFAQ\\nJak długo trwa realizacja zamówienia?\\nRealizacja zamówienia rozpoczyna się po potwierdzeniu dokonania opłaty. Cały proces może potrwać maksymalnie do 7 dni roboczych. Dokładamy wszelkich starań, aby dostarczyć gotową stronę jak najszybciej, a w przypadku jakichkolwiek opóźnień, będziemy informować na bieżąco.\\nCzy prowadzenie strony jest trudne?\\nNie! Nasze strony są wyposażone w intuicyjny panel administracyjny, który pozwala na samodzielną aktualizację treści bez znajomości programowania.Stronę przygotowujemy w taki sposóg aby prowadzenie strony było proste i wygodne.\\nCzy otrzymam fakturę?\\nTak, na każde zamówienie wystawiana jest faktura VAT, dane do faktury podasz podczas składania zamówienia\\nJaki jest koszt utrzymania strony po roku?\\nRoczny koszt utrzymania strony to około 300-500 zł i obejmuje:\\n– Domena – około 80 zł rocznie\\n– Hosting – około 200 zł rocznie\\nCzy potrzebuję i polityki prywatności?\\nTak, każda strona internetowa zbierająca jakiekolwiek dane użytkowników (np. przez formularze kontaktowe czy pliki cookie) wymaga polityki prywatności. W ramach naszej usługi przygotowujemy wszystkie niezbędne dokumenty prawne, każdy jednak może zamieścić własny plik z polityką prywatności.\\nCo zawiera cena strony?\\nW cenie strony otrzymujesz:\\n– Projekt graficzny\\n– Responsywny design\\n– Optymalizację pod SEO\\n– Integrację z mediami społecznościowymi\\n– Panel administracyjny\\nCzy strona będzie działać na telefonach?\\nTak! Wszystkie nasze strony są w pełni responsywne, co oznacza, że automatycznie dostosowują się do różnych rozmiarów ekranów: komputerów, tabletów i smartfonów.\\nJakie metody płatności akceptujecie?\\nAkceptujemy różne formy płatności:\\n– Przelew bankowy\\nCzy pomagacie w pozycjonowaniu strony?\\nTak, wszystkie nasze strony są zoptymalizowane pod SEO.\\nPodziel się z zaprzyjaźnionymi jednostkami!\\nJeżeli to, co widzisz wydaje Ci się warte uwagi, to może przyda się również innym jednostkom?\\nPodziel się tą informacją!\\nDziękujemy!\\nObserwuj\\nProfesjonalne i łatwe w obsłudze strony dla OSP\\nZłóż zamówienie i ciesz się\\nstron\\ną, która\\nprzycią\\ngn\\nie\\nuwagę\\nTwojej społecz\\nności!\\nZamów stronę\\nSprawdź jak już niedługo może wyglądać strona Twojej jednostki.\\nZobacz wersję demo\\nKontakt\\nMasz pytania? Skontaktuj się z nami!\\nJesteśmy dostępni pod adresem e-mail:\\nkontakt@stronaosp.pl\\nZobacz:\\nPolityka prywatności\\nRegulamin\\nCopyright © 2025 Strona OSP\\nObserwuj\\nProfesjonalne i łatwe w obsłudze strony dla OSP\\nZłóż zamówienie i ciesz się\\nstron\\ną, która\\nprzycią\\ngn\\nie\\nuwagę\\nTwojej społecz\\nności!\\nZamów stronę\\nSprawdź jak już niedługo może wyglądać strona Twojej jednostki.\\nZobacz wersję demo\\nKontakt\\nMasz pytania? Skontaktuj się z nami!\\nJesteśmy dostępni pod adresem e-mail:\\nkontakt@stronaosp.pl\\nZobacz:\\nPolityka prywatności\\nRegulamin\\nCopyright © 2025 Strona OSP\\nObserwuj'}]"
      ]
     },
     "execution_count": 14,
     "metadata": {},
     "output_type": "execute_result"
    }
   ],
   "source": [
    "# Try this out, and then try for a few more websites\n",
    "\n",
    "messages_for(ed)"
   ]
  },
  {
   "cell_type": "markdown",
   "id": "16f49d46-bf55-4c3e-928f-68fc0bf715b0",
   "metadata": {},
   "source": [
    "## Time to bring it together - the API for OpenAI is very simple!"
   ]
  },
  {
   "cell_type": "code",
   "execution_count": 15,
   "id": "905b9919-aba7-45b5-ae65-81b3d1d78e34",
   "metadata": {},
   "outputs": [],
   "source": [
    "# And now: call the OpenAI API. You will get very familiar with this!\n",
    "\n",
    "def summarize(url):\n",
    "    website = Website(url)\n",
    "    response = openai.chat.completions.create(\n",
    "        model = \"gpt-4o-mini\",\n",
    "        messages = messages_for(website)\n",
    "    )\n",
    "    return response.choices[0].message.content"
   ]
  },
  {
   "cell_type": "code",
   "execution_count": 16,
   "id": "05e38d41-dfa4-4b20-9c96-c46ea75d9fb5",
   "metadata": {},
   "outputs": [
    {
     "data": {
      "text/plain": [
       "'# Podsumowanie Strony OSP\\n\\n**Opis ogólny:**  \\nStrona oferuje profesjonalne rozwiązania internetowe dla Ochotniczych Straży Pożarnych (OSP), które chcą zbudować swój wizerunek, przyciągnąć nowych członków oraz angażować lokalną społeczność. Umożliwia łatwe zarządzanie treściami oraz dostarcza narzędzi do komunikacji i prezentacji działań OSP.\\n\\n**Kluczowe funkcje i zalety:**\\n- Intuicyjna obsługa i łatwe zarządzanie treściami.\\n- Możliwość publikacji informacji o akcjach, wydarzeniach i ogłoszeniach.\\n- Statystyki odwiedzin i aktywności jednostki.\\n- Dostosowanie wyglądu strony do potrzeb OSP.\\n- Możliwość budowania silnych więzi z lokalną społecznością i sponsorami.\\n- Wsparcie w pozyskiwaniu funduszy na zakup strony.\\n\\n**Wyzwania:**  \\nWiele OSP zmaga się z trudnościami w utrzymaniu profesjonalnego wizerunku online, co prowadzi do braku aktualizacji stron i ich mniejszej frekwencji.\\n\\n**Dlaczego warto mieć stronę internetową?**  \\nPosiadając stronę, OSP mogą utrzymać pełną kontrolę nad swoją komunikacją, co pozwala na skuteczniejsze dotarcie do społeczności oraz nowych potencjalnych członków.\\n\\n**Dostępne wsparcie:**  \\nStrona oferuje możliwość kontaktu oraz pomoc w kwestiach finansowych i technicznych dla OSP, które nie mają środków na rozwój swojego wizerunku online.'"
      ]
     },
     "execution_count": 16,
     "metadata": {},
     "output_type": "execute_result"
    }
   ],
   "source": [
    "summarize(\"https://stronaosp.pl\")"
   ]
  },
  {
   "cell_type": "code",
   "execution_count": 17,
   "id": "3d926d59-450e-4609-92ba-2d6f244f1342",
   "metadata": {},
   "outputs": [],
   "source": [
    "# A function to display this nicely in the Jupyter output, using markdown\n",
    "\n",
    "def display_summary(url):\n",
    "    summary = summarize(url)\n",
    "    display(Markdown(summary))"
   ]
  },
  {
   "cell_type": "code",
   "execution_count": 18,
   "id": "3018853a-445f-41ff-9560-d925d1774b2f",
   "metadata": {},
   "outputs": [
    {
     "data": {
      "text/markdown": [
       "# Podsumowanie Strony OSP\n",
       "\n",
       "Strona OSP oferuje profesjonalne i łatwe w obsłudze rozwiązania internetowe dla Ochotniczych Straży Pożarnych. Jej główne założenia to:\n",
       "\n",
       "- **Budowanie Wizerunku:** Strona ma pomóc OSP w stworzeniu profesjonalnego wizerunku online, co sprzyja pozyskiwaniu nowych członków i angażowaniu lokalnej społeczności.\n",
       "- **Dedykowane Funkcje:** Oferowane są funkcje takie jak galerie zdjęć, harmonogramy wydarzeń, formularze rejestracyjne oraz miejsce na publikowanie osiągnięć, co umożliwia efektywną komunikację i prezentację działań OSP.\n",
       "- **Zarządzanie i Statystyki:** Umożliwia łatwe zarządzanie treściami oraz dostęp do statystyk dotyczących odwiedzin i aktywności jednostki.\n",
       "- **Wsparcie Finansowe:** Strona oferuje gotowe pisma do skierowania do urzędów gminy i sponsorów w celu pozyskania funduszy na utworzenie i utrzymanie strony.\n",
       "\n",
       "## Kluczowe Zalety\n",
       "- **Niezależność i Kontrola:** Użytkownicy mają pełną kontrolę nad treściami oraz niezależność od mediów społecznościowych.\n",
       "- **Integracja z Lokalną Społecznością:** Strona umożliwia budowanie relacji z mieszkańcami, zwiększając ich zaangażowanie.\n",
       "- **Edukacja:** Możliwość publikowania artykułów i materiałów edukacyjnych dotyczących bezpieczeństwa i działań ratowniczych.\n",
       "\n",
       "Strona jest odpowiedzią na wyzwania, przed którymi stoją OSP w kontekście zarządzania swoją obecnością w sieci oraz efektywnej komunikacji z lokalną społecznością."
      ],
      "text/plain": [
       "<IPython.core.display.Markdown object>"
      ]
     },
     "metadata": {},
     "output_type": "display_data"
    }
   ],
   "source": [
    "display_summary(\"https://stronaosp.pl\")"
   ]
  },
  {
   "cell_type": "markdown",
   "id": "b3bcf6f4-adce-45e9-97ad-d9a5d7a3a624",
   "metadata": {},
   "source": [
    "# Let's try more websites\n",
    "\n",
    "Note that this will only work on websites that can be scraped using this simplistic approach.\n",
    "\n",
    "Websites that are rendered with Javascript, like React apps, won't show up. See the community-contributions folder for a Selenium implementation that gets around this. You'll need to read up on installing Selenium (ask ChatGPT!)\n",
    "\n",
    "Also Websites protected with CloudFront (and similar) may give 403 errors - many thanks Andy J for pointing this out.\n",
    "\n",
    "But many websites will work just fine!"
   ]
  },
  {
   "cell_type": "code",
   "execution_count": 19,
   "id": "45d83403-a24c-44b5-84ac-961449b4008f",
   "metadata": {},
   "outputs": [
    {
     "data": {
      "text/markdown": [
       "# Podsumowanie strony CNN\n",
       "\n",
       "Strona CNN dostarcza najnowsze wiadomości z różnych dziedzin, w tym polityki, zdrowia, biznesu, sportu oraz wydarzeń międzynarodowych. Oto kluczowe informacje znalezione w treści:\n",
       "\n",
       "## Najnowsze wiadomości:\n",
       "- **Protesty przeciw Trumpowi i Muskowi**: W odpowiedzi na to, co organizatorzy nazywają „wrogim przejęciem”, miliony ludzi wyszły na ulice w wszystkich 50 stanach USA oraz na całym świecie.\n",
       "- **Atak Rosji**: Ostatni atak na Kryvyi Rih w Ukrainie doprowadził do śmierci 19 osób, w tym 9 dzieci, co czyni go jednym z najgorszych incydentów w tym roku.\n",
       "- **Pojawienie się Papieża Franciszka**: Papież Franciszek zaskoczył publiczność swoją pierwszą publiczną obecnością po hospitalizacji.\n",
       "- **Analiza tarfów**: Niespodziewana reakcja na taryfy Trumpa i ich wpływ na inflację i rynek pracy w USA.\n",
       "\n",
       "## Inne istotne wiadomości:\n",
       "- **Zmarł 108-letni bohater II wojny światowej**: Śmierć jednego z legendarnych \"Triple Nickles\".\n",
       "- **Dziecięce wspomnienie trudnej historii**: Nowe badania pokazują, jak genotyp mumi w Saharze związany jest z historią regionu.\n",
       "- **Inne istotne wydarzenia**: Wydano oświadczenia dotyczące podróży, wpływu przez sztuczną inteligencję na młodzież i problemy zdrowotne związane z podróżami.\n",
       "\n",
       "Strona nie tylko informuje o bieżących wydarzeniach, ale także angażuje użytkowników w dialog dotyczący treści oraz jakości reklamowych."
      ],
      "text/plain": [
       "<IPython.core.display.Markdown object>"
      ]
     },
     "metadata": {},
     "output_type": "display_data"
    }
   ],
   "source": [
    "display_summary(\"https://cnn.com\")"
   ]
  },
  {
   "cell_type": "code",
   "execution_count": 20,
   "id": "75e9fd40-b354-4341-991e-863ef2e59db7",
   "metadata": {},
   "outputs": [
    {
     "data": {
      "text/markdown": [
       "# Podsumowanie strony Home | Anthropic\n",
       "\n",
       "Strona przedstawia firmę Anthropic, koncentrującą się na badaniach i rozwoju rozwiązań AI z naciskiem na bezpieczeństwo. \n",
       "\n",
       "## Nowości i Aktualizacje\n",
       "- **Claude 3.7 Sonnet**: Najnowszy model AI (hybrydowy model rozumowania) udostępniony użytkownikom.\n",
       "- **Claude Code**: Nowe narzędzie wspierające programowanie, pozwalające na tworzenie aplikacji wspieranych przez AI.\n",
       "\n",
       "## Funkcje i Usługi\n",
       "- **API i Rozwiązania**: Możliwość budowania aplikacji i doświadczeń związanych z AI.\n",
       "- **Plany subskrypcyjne dla różnych użytkowników**: Oferowane są plany dla firm oraz edukacji, a także dostęp do aplikacji Claude.\n",
       "\n",
       "## Badania i Zobowiązania\n",
       "- Organizacja prowadzi badania w dziedzinie AI, koncentrując się na bezpieczeństwie i odpowiedzialności technologii.\n",
       "- Zespół składa się z ekspertów z różnych dziedzin, takich jak ML, fizyka i polityka.\n",
       "\n",
       "## Ogłoszenia\n",
       "- Wydano dokumenty dotyczące polityki i zaangażowania w bezpieczeństwo AI, w tym \"Core Views on AI Safety\" z 8 marca 2023 roku.\n",
       "\n",
       "Strona podkreśla misję Anthropic w zakresie tworzenia niezawodnych i korzystnych systemów AI."
      ],
      "text/plain": [
       "<IPython.core.display.Markdown object>"
      ]
     },
     "metadata": {},
     "output_type": "display_data"
    }
   ],
   "source": [
    "display_summary(\"https://anthropic.com\")"
   ]
  },
  {
   "cell_type": "code",
   "execution_count": 21,
   "id": "80f4b556",
   "metadata": {},
   "outputs": [
    {
     "data": {
      "text/markdown": [
       "# Podsumowanie strony Strażak.Online\n",
       "\n",
       "**Ogólny opis:**\n",
       "Strażak.Online to aplikacja stworzona dla Ochotniczych Straży Pożarnych (OSP), która ma na celu ułatwienie ewidencji, zarządzania dokumentacją i usprawnienie komunikacji między członkami jednostki. Umożliwia szybkie przygotowywanie wniosków, raportów i zestawień, a także integruje funkcje zarządzania terminami i wydarzeniami.\n",
       "\n",
       "**Kluczowe funkcje:**\n",
       "- **Ewidencja danych:** Obejmuje 11 modułów, które pozwalają na efektywne zarządzanie dokumentacją.\n",
       "- **Generowanie dokumentów:** Umożliwia szybkie tworzenie wniosków i zestawień w oparciu o zebrane dane.\n",
       "- **Kalendarz wydarzeń:** Wszechstronny kalendarz dla jednostki, aby nie przegapić istotnych spotkań i terminów.\n",
       "- **System ról i uprawnień:** Pozwala na kontrolowanie dostępu do danych w zależności od przydzielonych ról.\n",
       "- **Obsługa na różnych urządzeniach:** Z aplikacji można korzystać na komputerach, tabletach i smartfonach, co zwiększa jej dostępność.\n",
       "- **Wsparcie techniczne:** Użytkownicy mogą korzystać z systemu zgłoszeń w celu uzyskania pomocy.\n",
       "\n",
       "**Opinie użytkowników:**\n",
       "1. **OSP KSRG Przygodzice:** Użytkownik chwali aplikację za uproszczenie procesów administracyjnych związanych z prowadzeniem dokumentacji.\n",
       "2. **OSP Słomczyn:** Ulepszenia w administracji i skracanie czasu potrzebnego na rozliczanie zdarzeń.\n",
       "3. **OSP Kęty Podlesie:** Zadowolenie z możliwości pracy na więcej niż jednej jednostce.\n",
       "4. **OSP Ostrówek:** Komfort korzystania z aplikacji oraz koncentracja na najważniejszych zadaniach.\n",
       "\n",
       "**Bezpieczeństwo:** Strona podkreśla wysokie standardy bezpieczeństwa danych, w tym dwuetapowe uwierzytelnianie oraz odpowiednie zarządzanie dostępem wewnętrznym.\n",
       "\n",
       "**Dostępność:** Możliwość przetestowania aplikacji przez miesiąc bezpłatnie, co pozwala na ocenę jej funkcjonalności przed podjęciem decyzji o zakupie.\n",
       "\n",
       "Strona promuje nowoczesne podejście do zarządzania OSP i zachęca do zakupu licencji, oferując jednocześnie wygodne formy wsparcia."
      ],
      "text/plain": [
       "<IPython.core.display.Markdown object>"
      ]
     },
     "metadata": {},
     "output_type": "display_data"
    }
   ],
   "source": [
    "display_summary(\"https://strazak.online/\")"
   ]
  },
  {
   "cell_type": "markdown",
   "id": "c951be1a-7f1b-448f-af1f-845978e47e2c",
   "metadata": {},
   "source": [
    "<table style=\"margin: 0; text-align: left;\">\n",
    "    <tr>\n",
    "        <td style=\"width: 150px; height: 150px; vertical-align: middle;\">\n",
    "            <img src=\"../business.jpg\" width=\"150\" height=\"150\" style=\"display: block;\" />\n",
    "        </td>\n",
    "        <td>\n",
    "            <h2 style=\"color:#181;\">Business applications</h2>\n",
    "            <span style=\"color:#181;\">In this exercise, you experienced calling the Cloud API of a Frontier Model (a leading model at the frontier of AI) for the first time. We will be using APIs like OpenAI at many stages in the course, in addition to building our own LLMs.\n",
    "\n",
    "More specifically, we've applied this to Summarization - a classic Gen AI use case to make a summary. This can be applied to any business vertical - summarizing the news, summarizing financial performance, summarizing a resume in a cover letter - the applications are limitless. Consider how you could apply Summarization in your business, and try prototyping a solution.</span>\n",
    "        </td>\n",
    "    </tr>\n",
    "</table>"
   ]
  },
  {
   "cell_type": "code",
   "execution_count": 22,
   "id": "00743dac-0e70-45b7-879a-d7293a6f68a6",
   "metadata": {},
   "outputs": [
    {
     "ename": "SyntaxError",
     "evalue": "invalid syntax (3985043996.py, line 15)",
     "output_type": "error",
     "traceback": [
      "  \u001b[36mCell\u001b[39m\u001b[36m \u001b[39m\u001b[32mIn[22]\u001b[39m\u001b[32m, line 15\u001b[39m\n\u001b[31m    \u001b[39m\u001b[31mresponse =\u001b[39m\n              ^\n\u001b[31mSyntaxError\u001b[39m\u001b[31m:\u001b[39m invalid syntax\n"
     ]
    }
   ],
   "source": [
    "# Step 1: Create your prompts\n",
    "\n",
    "system_prompt = \"something here\"\n",
    "user_prompt = \"\"\"\n",
    "    Lots of text\n",
    "    Can be pasted here\n",
    "\"\"\"\n",
    "\n",
    "# Step 2: Make the messages list\n",
    "\n",
    "messages = [] # fill this in\n",
    "\n",
    "# Step 3: Call OpenAI\n",
    "\n",
    "response =\n",
    "\n",
    "# Step 4: print the result\n",
    "\n",
    "print("
   ]
  },
  {
   "cell_type": "markdown",
   "id": "eeab24dc-5f90-4570-b542-b0585aca3eb6",
   "metadata": {},
   "source": [
    "# Sharing your code\n",
    "\n",
    "I'd love it if you share your code afterwards so I can share it with others! You'll notice that some students have already made changes (including a Selenium implementation) which you will find in the community-contributions folder. If you'd like add your changes to that folder, submit a Pull Request with your new versions in that folder and I'll merge your changes.\n",
    "\n",
    "If you're not an expert with git (and I am not!) then GPT has given some nice instructions on how to submit a Pull Request. It's a bit of an involved process, but once you've done it once it's pretty clear. As a pro-tip: it's best if you clear the outputs of your Jupyter notebooks (Edit >> Clean outputs of all cells, and then Save) for clean notebooks.\n",
    "\n",
    "Here are good instructions courtesy of an AI friend:  \n",
    "https://chatgpt.com/share/677a9cb5-c64c-8012-99e0-e06e88afd293"
   ]
  }
 ],
 "metadata": {
  "kernelspec": {
   "display_name": "llms",
   "language": "python",
   "name": "python3"
  },
  "language_info": {
   "codemirror_mode": {
    "name": "ipython",
    "version": 3
   },
   "file_extension": ".py",
   "mimetype": "text/x-python",
   "name": "python",
   "nbconvert_exporter": "python",
   "pygments_lexer": "ipython3",
   "version": "3.11.11"
  }
 },
 "nbformat": 4,
 "nbformat_minor": 5
}
